{
  "cells": [
    {
      "cell_type": "markdown",
      "metadata": {
        "id": "8hNDfWPxpJNu"
      },
      "source": [
        "**Loading the dataset using Kaggle API**"
      ]
    },
    {
      "cell_type": "code",
      "execution_count": 1,
      "metadata": {
        "colab": {
          "base_uri": "https://localhost:8080/"
        },
        "id": "PJI1cEPupEYU",
        "outputId": "c5b782ae-5fa3-44db-bf9b-d514cdf5ca81"
      },
      "outputs": [],
      "source": [
        "#!pip install kaggle\n",
        "#! mkdir ~/.kaggle\n",
        "#! cp kaggle.json ~/.kaggle/\n",
        "#! chmod 600 ~/.kaggle/kaggle.json\n",
        "#!kaggle datasets download -d hassan06/nslkdd"
      ]
    },
    {
      "cell_type": "code",
      "execution_count": 2,
      "metadata": {
        "colab": {
          "base_uri": "https://localhost:8080/"
        },
        "id": "t291xB4MecWL",
        "outputId": "73b6990d-0002-4053-8fb8-8181aa3a610d"
      },
      "outputs": [
        {
          "name": "stdout",
          "output_type": "stream",
          "text": [
            "Archive:  nslkdd.zip\n",
            "  inflating: KDDTest+.arff           \n",
            "  inflating: KDDTest+.txt            \n",
            "  inflating: KDDTest-21.arff         \n",
            "  inflating: KDDTest-21.txt          \n",
            "  inflating: KDDTest1.jpg            \n",
            "  inflating: KDDTrain+.arff          \n",
            "  inflating: KDDTrain+.txt           \n",
            "  inflating: KDDTrain+_20Percent.arff  \n",
            "  inflating: KDDTrain+_20Percent.txt  \n",
            "  inflating: KDDTrain1.jpg           \n",
            "  inflating: index.html              \n",
            "  inflating: nsl-kdd/KDDTest+.arff   \n",
            "  inflating: nsl-kdd/KDDTest+.txt    \n",
            "  inflating: nsl-kdd/KDDTest-21.arff  \n",
            "  inflating: nsl-kdd/KDDTest-21.txt  \n",
            "  inflating: nsl-kdd/KDDTest1.jpg    \n",
            "  inflating: nsl-kdd/KDDTrain+.arff  \n",
            "  inflating: nsl-kdd/KDDTrain+.txt   \n",
            "  inflating: nsl-kdd/KDDTrain+_20Percent.arff  \n",
            "  inflating: nsl-kdd/KDDTrain+_20Percent.txt  \n",
            "  inflating: nsl-kdd/KDDTrain1.jpg   \n",
            "  inflating: nsl-kdd/index.html      \n"
          ]
        }
      ],
      "source": [
        "!unzip nslkdd.zip"
      ]
    },
    {
      "cell_type": "markdown",
      "metadata": {
        "id": "UrgjCo2zgvEd"
      },
      "source": [
        "**Importing modules**"
      ]
    },
    {
      "cell_type": "code",
      "execution_count": 30,
      "metadata": {
        "id": "r4Bc_rnyguG-"
      },
      "outputs": [],
      "source": [
        "#Import libraries:\n",
        "import pandas as pd\n",
        "import numpy as np\n",
        "import xgboost as xgb\n",
        "from xgboost.sklearn import XGBClassifier\n",
        "from sklearn.linear_model import LogisticRegression\n",
        "from sklearn.tree import DecisionTreeClassifier\n",
        "from sklearn import  metrics   #Additional scklearn functions\n",
        "from sklearn.model_selection import RandomizedSearchCV\n",
        "from sklearn.model_selection import GridSearchCV\n",
        "from sklearn.model_selection import train_test_split\n",
        "from sklearn.ensemble import RandomForestClassifier\n",
        "from sklearn import model_selection \n",
        "from sklearn.ensemble import BaggingClassifier\n",
        "from sklearn.ensemble import AdaBoostClassifier\n",
        "from sklearn.metrics import accuracy_score, f1_score, precision_score, recall_score, classification_report, confusion_matrix\n",
        "from sklearn.metrics import roc_curve\n",
        "import lightgbm as lgb\n",
        "from imblearn.under_sampling import RandomUnderSampler\n",
        "import plotly.express as px\n",
        "import seaborn as sns\n",
        "import matplotlib.pylab as plt\n",
        "%matplotlib inline"
      ]
    },
    {
      "cell_type": "markdown",
      "metadata": {
        "id": "MQA6-5nugq_W"
      },
      "source": [
        "**Loading dataset**"
      ]
    },
    {
      "cell_type": "code",
      "execution_count": 31,
      "metadata": {
        "id": "4KXLoyI-g-QW"
      },
      "outputs": [],
      "source": [
        "columns = (['duration','protocol_type','service','flag','src_bytes','dst_bytes','land','wrong_fragment','urgent'\n",
        "            ,'hot','num_failed_logins','logged_in','num_compromised','root_shell','su_attempted','num_root'\n",
        "            ,'num_file_creations','num_shells','num_access_files','num_outbound_cmds','is_host_login'\n",
        "            ,'is_guest_login','count','srv_count','serror_rate','srv_serror_rate','rerror_rate','srv_rerror_rate'\n",
        "            ,'same_srv_rate','diff_srv_rate','srv_diff_host_rate','dst_host_count','dst_host_srv_count'\n",
        "            ,'dst_host_same_srv_rate','dst_host_diff_srv_rate','dst_host_same_src_port_rate'\n",
        "            ,'dst_host_srv_diff_host_rate','dst_host_serror_rate','dst_host_srv_serror_rate','dst_host_rerror_rate'\n",
        "            ,'dst_host_srv_rerror_rate','attack','outcome'])"
      ]
    },
    {
      "cell_type": "code",
      "execution_count": 32,
      "metadata": {
        "colab": {
          "base_uri": "https://localhost:8080/",
          "height": 299
        },
        "id": "4Iz7la-ee_N2",
        "outputId": "53f422e9-d9f7-4113-a8d0-97990389a329"
      },
      "outputs": [
        {
          "data": {
            "text/html": [
              "<div>\n",
              "<style scoped>\n",
              "    .dataframe tbody tr th:only-of-type {\n",
              "        vertical-align: middle;\n",
              "    }\n",
              "\n",
              "    .dataframe tbody tr th {\n",
              "        vertical-align: top;\n",
              "    }\n",
              "\n",
              "    .dataframe thead th {\n",
              "        text-align: right;\n",
              "    }\n",
              "</style>\n",
              "<table border=\"1\" class=\"dataframe\">\n",
              "  <thead>\n",
              "    <tr style=\"text-align: right;\">\n",
              "      <th></th>\n",
              "      <th>duration</th>\n",
              "      <th>protocol_type</th>\n",
              "      <th>service</th>\n",
              "      <th>flag</th>\n",
              "      <th>src_bytes</th>\n",
              "      <th>dst_bytes</th>\n",
              "      <th>land</th>\n",
              "      <th>wrong_fragment</th>\n",
              "      <th>urgent</th>\n",
              "      <th>hot</th>\n",
              "      <th>...</th>\n",
              "      <th>dst_host_same_srv_rate</th>\n",
              "      <th>dst_host_diff_srv_rate</th>\n",
              "      <th>dst_host_same_src_port_rate</th>\n",
              "      <th>dst_host_srv_diff_host_rate</th>\n",
              "      <th>dst_host_serror_rate</th>\n",
              "      <th>dst_host_srv_serror_rate</th>\n",
              "      <th>dst_host_rerror_rate</th>\n",
              "      <th>dst_host_srv_rerror_rate</th>\n",
              "      <th>attack</th>\n",
              "      <th>outcome</th>\n",
              "    </tr>\n",
              "  </thead>\n",
              "  <tbody>\n",
              "    <tr>\n",
              "      <th>0</th>\n",
              "      <td>0</td>\n",
              "      <td>tcp</td>\n",
              "      <td>ftp_data</td>\n",
              "      <td>SF</td>\n",
              "      <td>491</td>\n",
              "      <td>0</td>\n",
              "      <td>0</td>\n",
              "      <td>0</td>\n",
              "      <td>0</td>\n",
              "      <td>0</td>\n",
              "      <td>...</td>\n",
              "      <td>0.17</td>\n",
              "      <td>0.03</td>\n",
              "      <td>0.17</td>\n",
              "      <td>0.00</td>\n",
              "      <td>0.00</td>\n",
              "      <td>0.00</td>\n",
              "      <td>0.05</td>\n",
              "      <td>0.00</td>\n",
              "      <td>normal</td>\n",
              "      <td>20</td>\n",
              "    </tr>\n",
              "    <tr>\n",
              "      <th>1</th>\n",
              "      <td>0</td>\n",
              "      <td>udp</td>\n",
              "      <td>other</td>\n",
              "      <td>SF</td>\n",
              "      <td>146</td>\n",
              "      <td>0</td>\n",
              "      <td>0</td>\n",
              "      <td>0</td>\n",
              "      <td>0</td>\n",
              "      <td>0</td>\n",
              "      <td>...</td>\n",
              "      <td>0.00</td>\n",
              "      <td>0.60</td>\n",
              "      <td>0.88</td>\n",
              "      <td>0.00</td>\n",
              "      <td>0.00</td>\n",
              "      <td>0.00</td>\n",
              "      <td>0.00</td>\n",
              "      <td>0.00</td>\n",
              "      <td>normal</td>\n",
              "      <td>15</td>\n",
              "    </tr>\n",
              "    <tr>\n",
              "      <th>2</th>\n",
              "      <td>0</td>\n",
              "      <td>tcp</td>\n",
              "      <td>private</td>\n",
              "      <td>S0</td>\n",
              "      <td>0</td>\n",
              "      <td>0</td>\n",
              "      <td>0</td>\n",
              "      <td>0</td>\n",
              "      <td>0</td>\n",
              "      <td>0</td>\n",
              "      <td>...</td>\n",
              "      <td>0.10</td>\n",
              "      <td>0.05</td>\n",
              "      <td>0.00</td>\n",
              "      <td>0.00</td>\n",
              "      <td>1.00</td>\n",
              "      <td>1.00</td>\n",
              "      <td>0.00</td>\n",
              "      <td>0.00</td>\n",
              "      <td>neptune</td>\n",
              "      <td>19</td>\n",
              "    </tr>\n",
              "    <tr>\n",
              "      <th>3</th>\n",
              "      <td>0</td>\n",
              "      <td>tcp</td>\n",
              "      <td>http</td>\n",
              "      <td>SF</td>\n",
              "      <td>232</td>\n",
              "      <td>8153</td>\n",
              "      <td>0</td>\n",
              "      <td>0</td>\n",
              "      <td>0</td>\n",
              "      <td>0</td>\n",
              "      <td>...</td>\n",
              "      <td>1.00</td>\n",
              "      <td>0.00</td>\n",
              "      <td>0.03</td>\n",
              "      <td>0.04</td>\n",
              "      <td>0.03</td>\n",
              "      <td>0.01</td>\n",
              "      <td>0.00</td>\n",
              "      <td>0.01</td>\n",
              "      <td>normal</td>\n",
              "      <td>21</td>\n",
              "    </tr>\n",
              "    <tr>\n",
              "      <th>4</th>\n",
              "      <td>0</td>\n",
              "      <td>tcp</td>\n",
              "      <td>http</td>\n",
              "      <td>SF</td>\n",
              "      <td>199</td>\n",
              "      <td>420</td>\n",
              "      <td>0</td>\n",
              "      <td>0</td>\n",
              "      <td>0</td>\n",
              "      <td>0</td>\n",
              "      <td>...</td>\n",
              "      <td>1.00</td>\n",
              "      <td>0.00</td>\n",
              "      <td>0.00</td>\n",
              "      <td>0.00</td>\n",
              "      <td>0.00</td>\n",
              "      <td>0.00</td>\n",
              "      <td>0.00</td>\n",
              "      <td>0.00</td>\n",
              "      <td>normal</td>\n",
              "      <td>21</td>\n",
              "    </tr>\n",
              "  </tbody>\n",
              "</table>\n",
              "<p>5 rows × 43 columns</p>\n",
              "</div>"
            ],
            "text/plain": [
              "   duration protocol_type   service flag  src_bytes  dst_bytes  land  \\\n",
              "0         0           tcp  ftp_data   SF        491          0     0   \n",
              "1         0           udp     other   SF        146          0     0   \n",
              "2         0           tcp   private   S0          0          0     0   \n",
              "3         0           tcp      http   SF        232       8153     0   \n",
              "4         0           tcp      http   SF        199        420     0   \n",
              "\n",
              "   wrong_fragment  urgent  hot  ...  dst_host_same_srv_rate  \\\n",
              "0               0       0    0  ...                    0.17   \n",
              "1               0       0    0  ...                    0.00   \n",
              "2               0       0    0  ...                    0.10   \n",
              "3               0       0    0  ...                    1.00   \n",
              "4               0       0    0  ...                    1.00   \n",
              "\n",
              "   dst_host_diff_srv_rate  dst_host_same_src_port_rate  \\\n",
              "0                    0.03                         0.17   \n",
              "1                    0.60                         0.88   \n",
              "2                    0.05                         0.00   \n",
              "3                    0.00                         0.03   \n",
              "4                    0.00                         0.00   \n",
              "\n",
              "   dst_host_srv_diff_host_rate  dst_host_serror_rate  \\\n",
              "0                         0.00                  0.00   \n",
              "1                         0.00                  0.00   \n",
              "2                         0.00                  1.00   \n",
              "3                         0.04                  0.03   \n",
              "4                         0.00                  0.00   \n",
              "\n",
              "   dst_host_srv_serror_rate  dst_host_rerror_rate  dst_host_srv_rerror_rate  \\\n",
              "0                      0.00                  0.05                      0.00   \n",
              "1                      0.00                  0.00                      0.00   \n",
              "2                      1.00                  0.00                      0.00   \n",
              "3                      0.01                  0.00                      0.01   \n",
              "4                      0.00                  0.00                      0.00   \n",
              "\n",
              "    attack  outcome  \n",
              "0   normal       20  \n",
              "1   normal       15  \n",
              "2  neptune       19  \n",
              "3   normal       21  \n",
              "4   normal       21  \n",
              "\n",
              "[5 rows x 43 columns]"
            ]
          },
          "execution_count": 32,
          "metadata": {},
          "output_type": "execute_result"
        }
      ],
      "source": [
        "df = pd.read_csv('KDDTrain+.txt',names = columns)\n",
        "df.head()"
      ]
    },
    {
      "cell_type": "markdown",
      "metadata": {
        "id": "IFZzIMiOhjoO"
      },
      "source": [
        "**Checking for null values**"
      ]
    },
    {
      "cell_type": "code",
      "execution_count": 33,
      "metadata": {
        "colab": {
          "base_uri": "https://localhost:8080/"
        },
        "id": "HE8MnZcshEhA",
        "outputId": "9f1b2ca6-8110-403e-c6d0-1235994fa5d7"
      },
      "outputs": [
        {
          "data": {
            "text/plain": [
              "duration                       0\n",
              "protocol_type                  0\n",
              "service                        0\n",
              "flag                           0\n",
              "src_bytes                      0\n",
              "dst_bytes                      0\n",
              "land                           0\n",
              "wrong_fragment                 0\n",
              "urgent                         0\n",
              "hot                            0\n",
              "num_failed_logins              0\n",
              "logged_in                      0\n",
              "num_compromised                0\n",
              "root_shell                     0\n",
              "su_attempted                   0\n",
              "num_root                       0\n",
              "num_file_creations             0\n",
              "num_shells                     0\n",
              "num_access_files               0\n",
              "num_outbound_cmds              0\n",
              "is_host_login                  0\n",
              "is_guest_login                 0\n",
              "count                          0\n",
              "srv_count                      0\n",
              "serror_rate                    0\n",
              "srv_serror_rate                0\n",
              "rerror_rate                    0\n",
              "srv_rerror_rate                0\n",
              "same_srv_rate                  0\n",
              "diff_srv_rate                  0\n",
              "srv_diff_host_rate             0\n",
              "dst_host_count                 0\n",
              "dst_host_srv_count             0\n",
              "dst_host_same_srv_rate         0\n",
              "dst_host_diff_srv_rate         0\n",
              "dst_host_same_src_port_rate    0\n",
              "dst_host_srv_diff_host_rate    0\n",
              "dst_host_serror_rate           0\n",
              "dst_host_srv_serror_rate       0\n",
              "dst_host_rerror_rate           0\n",
              "dst_host_srv_rerror_rate       0\n",
              "attack                         0\n",
              "outcome                        0\n",
              "dtype: int64"
            ]
          },
          "execution_count": 33,
          "metadata": {},
          "output_type": "execute_result"
        }
      ],
      "source": [
        "df.isnull().sum()"
      ]
    },
    {
      "cell_type": "markdown",
      "metadata": {
        "id": "0kd9anw-iPA2"
      },
      "source": [
        "**Dropping outcome column**"
      ]
    },
    {
      "cell_type": "code",
      "execution_count": 34,
      "metadata": {
        "id": "feUgvRIFhmvv"
      },
      "outputs": [],
      "source": [
        "df = df.drop(columns='outcome',axis=1)"
      ]
    },
    {
      "cell_type": "markdown",
      "metadata": {
        "id": "-jQPx1gciaJH"
      },
      "source": [
        "**Exploratory Data Analysis**"
      ]
    },
    {
      "cell_type": "markdown",
      "metadata": {
        "id": "ac8fUroUqQTW"
      },
      "source": [
        "**Normal means there is no attack and other than that is attack**"
      ]
    },
    {
      "cell_type": "code",
      "execution_count": 35,
      "metadata": {
        "id": "lCnx8YGBqAwu"
      },
      "outputs": [],
      "source": [
        "attack_n = []\n",
        "for i in df.attack :\n",
        "  if i == 'normal':\n",
        "    attack_n.append(\"normal\")\n",
        "  else:\n",
        "    attack_n.append(\"attack\")\n",
        "df['attack'] = attack_n "
      ]
    },
    {
      "cell_type": "code",
      "execution_count": 36,
      "metadata": {
        "colab": {
          "base_uri": "https://localhost:8080/"
        },
        "id": "cR19W85HiXQv",
        "outputId": "e32b1eff-195e-489a-f2cd-2ca810845849"
      },
      "outputs": [
        {
          "data": {
            "text/plain": [
              "normal    67343\n",
              "attack    58630\n",
              "Name: attack, dtype: int64"
            ]
          },
          "execution_count": 36,
          "metadata": {},
          "output_type": "execute_result"
        }
      ],
      "source": [
        "value_counts = df.attack.value_counts()\n",
        "value_counts"
      ]
    },
    {
      "cell_type": "code",
      "execution_count": 37,
      "metadata": {
        "colab": {
          "base_uri": "https://localhost:8080/",
          "height": 542
        },
        "id": "ic-p1uDsilUI",
        "outputId": "c165e932-3e4d-47fe-b7ae-e6b984e11629"
      },
      "outputs": [
        {
          "data": {
            "application/vnd.plotly.v1+json": {
              "config": {
                "plotlyServerURL": "https://plot.ly"
              },
              "data": [
                {
                  "alignmentgroup": "True",
                  "hovertemplate": "x=%{x}<br>y=%{y}<extra></extra>",
                  "legendgroup": "",
                  "marker": {
                    "color": "#636efa",
                    "pattern": {
                      "shape": ""
                    }
                  },
                  "name": "",
                  "offsetgroup": "",
                  "orientation": "v",
                  "showlegend": false,
                  "textposition": "auto",
                  "texttemplate": "%{y:.2s}",
                  "type": "bar",
                  "x": [
                    "Normal",
                    "Attack"
                  ],
                  "xaxis": "x",
                  "y": [
                    67343,
                    58630
                  ],
                  "yaxis": "y"
                }
              ],
              "layout": {
                "barmode": "relative",
                "legend": {
                  "tracegroupgap": 0
                },
                "template": {
                  "data": {
                    "bar": [
                      {
                        "error_x": {
                          "color": "#2a3f5f"
                        },
                        "error_y": {
                          "color": "#2a3f5f"
                        },
                        "marker": {
                          "line": {
                            "color": "#E5ECF6",
                            "width": 0.5
                          },
                          "pattern": {
                            "fillmode": "overlay",
                            "size": 10,
                            "solidity": 0.2
                          }
                        },
                        "type": "bar"
                      }
                    ],
                    "barpolar": [
                      {
                        "marker": {
                          "line": {
                            "color": "#E5ECF6",
                            "width": 0.5
                          },
                          "pattern": {
                            "fillmode": "overlay",
                            "size": 10,
                            "solidity": 0.2
                          }
                        },
                        "type": "barpolar"
                      }
                    ],
                    "carpet": [
                      {
                        "aaxis": {
                          "endlinecolor": "#2a3f5f",
                          "gridcolor": "white",
                          "linecolor": "white",
                          "minorgridcolor": "white",
                          "startlinecolor": "#2a3f5f"
                        },
                        "baxis": {
                          "endlinecolor": "#2a3f5f",
                          "gridcolor": "white",
                          "linecolor": "white",
                          "minorgridcolor": "white",
                          "startlinecolor": "#2a3f5f"
                        },
                        "type": "carpet"
                      }
                    ],
                    "choropleth": [
                      {
                        "colorbar": {
                          "outlinewidth": 0,
                          "ticks": ""
                        },
                        "type": "choropleth"
                      }
                    ],
                    "contour": [
                      {
                        "colorbar": {
                          "outlinewidth": 0,
                          "ticks": ""
                        },
                        "colorscale": [
                          [
                            0,
                            "#0d0887"
                          ],
                          [
                            0.1111111111111111,
                            "#46039f"
                          ],
                          [
                            0.2222222222222222,
                            "#7201a8"
                          ],
                          [
                            0.3333333333333333,
                            "#9c179e"
                          ],
                          [
                            0.4444444444444444,
                            "#bd3786"
                          ],
                          [
                            0.5555555555555556,
                            "#d8576b"
                          ],
                          [
                            0.6666666666666666,
                            "#ed7953"
                          ],
                          [
                            0.7777777777777778,
                            "#fb9f3a"
                          ],
                          [
                            0.8888888888888888,
                            "#fdca26"
                          ],
                          [
                            1,
                            "#f0f921"
                          ]
                        ],
                        "type": "contour"
                      }
                    ],
                    "contourcarpet": [
                      {
                        "colorbar": {
                          "outlinewidth": 0,
                          "ticks": ""
                        },
                        "type": "contourcarpet"
                      }
                    ],
                    "heatmap": [
                      {
                        "colorbar": {
                          "outlinewidth": 0,
                          "ticks": ""
                        },
                        "colorscale": [
                          [
                            0,
                            "#0d0887"
                          ],
                          [
                            0.1111111111111111,
                            "#46039f"
                          ],
                          [
                            0.2222222222222222,
                            "#7201a8"
                          ],
                          [
                            0.3333333333333333,
                            "#9c179e"
                          ],
                          [
                            0.4444444444444444,
                            "#bd3786"
                          ],
                          [
                            0.5555555555555556,
                            "#d8576b"
                          ],
                          [
                            0.6666666666666666,
                            "#ed7953"
                          ],
                          [
                            0.7777777777777778,
                            "#fb9f3a"
                          ],
                          [
                            0.8888888888888888,
                            "#fdca26"
                          ],
                          [
                            1,
                            "#f0f921"
                          ]
                        ],
                        "type": "heatmap"
                      }
                    ],
                    "heatmapgl": [
                      {
                        "colorbar": {
                          "outlinewidth": 0,
                          "ticks": ""
                        },
                        "colorscale": [
                          [
                            0,
                            "#0d0887"
                          ],
                          [
                            0.1111111111111111,
                            "#46039f"
                          ],
                          [
                            0.2222222222222222,
                            "#7201a8"
                          ],
                          [
                            0.3333333333333333,
                            "#9c179e"
                          ],
                          [
                            0.4444444444444444,
                            "#bd3786"
                          ],
                          [
                            0.5555555555555556,
                            "#d8576b"
                          ],
                          [
                            0.6666666666666666,
                            "#ed7953"
                          ],
                          [
                            0.7777777777777778,
                            "#fb9f3a"
                          ],
                          [
                            0.8888888888888888,
                            "#fdca26"
                          ],
                          [
                            1,
                            "#f0f921"
                          ]
                        ],
                        "type": "heatmapgl"
                      }
                    ],
                    "histogram": [
                      {
                        "marker": {
                          "pattern": {
                            "fillmode": "overlay",
                            "size": 10,
                            "solidity": 0.2
                          }
                        },
                        "type": "histogram"
                      }
                    ],
                    "histogram2d": [
                      {
                        "colorbar": {
                          "outlinewidth": 0,
                          "ticks": ""
                        },
                        "colorscale": [
                          [
                            0,
                            "#0d0887"
                          ],
                          [
                            0.1111111111111111,
                            "#46039f"
                          ],
                          [
                            0.2222222222222222,
                            "#7201a8"
                          ],
                          [
                            0.3333333333333333,
                            "#9c179e"
                          ],
                          [
                            0.4444444444444444,
                            "#bd3786"
                          ],
                          [
                            0.5555555555555556,
                            "#d8576b"
                          ],
                          [
                            0.6666666666666666,
                            "#ed7953"
                          ],
                          [
                            0.7777777777777778,
                            "#fb9f3a"
                          ],
                          [
                            0.8888888888888888,
                            "#fdca26"
                          ],
                          [
                            1,
                            "#f0f921"
                          ]
                        ],
                        "type": "histogram2d"
                      }
                    ],
                    "histogram2dcontour": [
                      {
                        "colorbar": {
                          "outlinewidth": 0,
                          "ticks": ""
                        },
                        "colorscale": [
                          [
                            0,
                            "#0d0887"
                          ],
                          [
                            0.1111111111111111,
                            "#46039f"
                          ],
                          [
                            0.2222222222222222,
                            "#7201a8"
                          ],
                          [
                            0.3333333333333333,
                            "#9c179e"
                          ],
                          [
                            0.4444444444444444,
                            "#bd3786"
                          ],
                          [
                            0.5555555555555556,
                            "#d8576b"
                          ],
                          [
                            0.6666666666666666,
                            "#ed7953"
                          ],
                          [
                            0.7777777777777778,
                            "#fb9f3a"
                          ],
                          [
                            0.8888888888888888,
                            "#fdca26"
                          ],
                          [
                            1,
                            "#f0f921"
                          ]
                        ],
                        "type": "histogram2dcontour"
                      }
                    ],
                    "mesh3d": [
                      {
                        "colorbar": {
                          "outlinewidth": 0,
                          "ticks": ""
                        },
                        "type": "mesh3d"
                      }
                    ],
                    "parcoords": [
                      {
                        "line": {
                          "colorbar": {
                            "outlinewidth": 0,
                            "ticks": ""
                          }
                        },
                        "type": "parcoords"
                      }
                    ],
                    "pie": [
                      {
                        "automargin": true,
                        "type": "pie"
                      }
                    ],
                    "scatter": [
                      {
                        "fillpattern": {
                          "fillmode": "overlay",
                          "size": 10,
                          "solidity": 0.2
                        },
                        "type": "scatter"
                      }
                    ],
                    "scatter3d": [
                      {
                        "line": {
                          "colorbar": {
                            "outlinewidth": 0,
                            "ticks": ""
                          }
                        },
                        "marker": {
                          "colorbar": {
                            "outlinewidth": 0,
                            "ticks": ""
                          }
                        },
                        "type": "scatter3d"
                      }
                    ],
                    "scattercarpet": [
                      {
                        "marker": {
                          "colorbar": {
                            "outlinewidth": 0,
                            "ticks": ""
                          }
                        },
                        "type": "scattercarpet"
                      }
                    ],
                    "scattergeo": [
                      {
                        "marker": {
                          "colorbar": {
                            "outlinewidth": 0,
                            "ticks": ""
                          }
                        },
                        "type": "scattergeo"
                      }
                    ],
                    "scattergl": [
                      {
                        "marker": {
                          "colorbar": {
                            "outlinewidth": 0,
                            "ticks": ""
                          }
                        },
                        "type": "scattergl"
                      }
                    ],
                    "scattermapbox": [
                      {
                        "marker": {
                          "colorbar": {
                            "outlinewidth": 0,
                            "ticks": ""
                          }
                        },
                        "type": "scattermapbox"
                      }
                    ],
                    "scatterpolar": [
                      {
                        "marker": {
                          "colorbar": {
                            "outlinewidth": 0,
                            "ticks": ""
                          }
                        },
                        "type": "scatterpolar"
                      }
                    ],
                    "scatterpolargl": [
                      {
                        "marker": {
                          "colorbar": {
                            "outlinewidth": 0,
                            "ticks": ""
                          }
                        },
                        "type": "scatterpolargl"
                      }
                    ],
                    "scatterternary": [
                      {
                        "marker": {
                          "colorbar": {
                            "outlinewidth": 0,
                            "ticks": ""
                          }
                        },
                        "type": "scatterternary"
                      }
                    ],
                    "surface": [
                      {
                        "colorbar": {
                          "outlinewidth": 0,
                          "ticks": ""
                        },
                        "colorscale": [
                          [
                            0,
                            "#0d0887"
                          ],
                          [
                            0.1111111111111111,
                            "#46039f"
                          ],
                          [
                            0.2222222222222222,
                            "#7201a8"
                          ],
                          [
                            0.3333333333333333,
                            "#9c179e"
                          ],
                          [
                            0.4444444444444444,
                            "#bd3786"
                          ],
                          [
                            0.5555555555555556,
                            "#d8576b"
                          ],
                          [
                            0.6666666666666666,
                            "#ed7953"
                          ],
                          [
                            0.7777777777777778,
                            "#fb9f3a"
                          ],
                          [
                            0.8888888888888888,
                            "#fdca26"
                          ],
                          [
                            1,
                            "#f0f921"
                          ]
                        ],
                        "type": "surface"
                      }
                    ],
                    "table": [
                      {
                        "cells": {
                          "fill": {
                            "color": "#EBF0F8"
                          },
                          "line": {
                            "color": "white"
                          }
                        },
                        "header": {
                          "fill": {
                            "color": "#C8D4E3"
                          },
                          "line": {
                            "color": "white"
                          }
                        },
                        "type": "table"
                      }
                    ]
                  },
                  "layout": {
                    "annotationdefaults": {
                      "arrowcolor": "#2a3f5f",
                      "arrowhead": 0,
                      "arrowwidth": 1
                    },
                    "autotypenumbers": "strict",
                    "coloraxis": {
                      "colorbar": {
                        "outlinewidth": 0,
                        "ticks": ""
                      }
                    },
                    "colorscale": {
                      "diverging": [
                        [
                          0,
                          "#8e0152"
                        ],
                        [
                          0.1,
                          "#c51b7d"
                        ],
                        [
                          0.2,
                          "#de77ae"
                        ],
                        [
                          0.3,
                          "#f1b6da"
                        ],
                        [
                          0.4,
                          "#fde0ef"
                        ],
                        [
                          0.5,
                          "#f7f7f7"
                        ],
                        [
                          0.6,
                          "#e6f5d0"
                        ],
                        [
                          0.7,
                          "#b8e186"
                        ],
                        [
                          0.8,
                          "#7fbc41"
                        ],
                        [
                          0.9,
                          "#4d9221"
                        ],
                        [
                          1,
                          "#276419"
                        ]
                      ],
                      "sequential": [
                        [
                          0,
                          "#0d0887"
                        ],
                        [
                          0.1111111111111111,
                          "#46039f"
                        ],
                        [
                          0.2222222222222222,
                          "#7201a8"
                        ],
                        [
                          0.3333333333333333,
                          "#9c179e"
                        ],
                        [
                          0.4444444444444444,
                          "#bd3786"
                        ],
                        [
                          0.5555555555555556,
                          "#d8576b"
                        ],
                        [
                          0.6666666666666666,
                          "#ed7953"
                        ],
                        [
                          0.7777777777777778,
                          "#fb9f3a"
                        ],
                        [
                          0.8888888888888888,
                          "#fdca26"
                        ],
                        [
                          1,
                          "#f0f921"
                        ]
                      ],
                      "sequentialminus": [
                        [
                          0,
                          "#0d0887"
                        ],
                        [
                          0.1111111111111111,
                          "#46039f"
                        ],
                        [
                          0.2222222222222222,
                          "#7201a8"
                        ],
                        [
                          0.3333333333333333,
                          "#9c179e"
                        ],
                        [
                          0.4444444444444444,
                          "#bd3786"
                        ],
                        [
                          0.5555555555555556,
                          "#d8576b"
                        ],
                        [
                          0.6666666666666666,
                          "#ed7953"
                        ],
                        [
                          0.7777777777777778,
                          "#fb9f3a"
                        ],
                        [
                          0.8888888888888888,
                          "#fdca26"
                        ],
                        [
                          1,
                          "#f0f921"
                        ]
                      ]
                    },
                    "colorway": [
                      "#636efa",
                      "#EF553B",
                      "#00cc96",
                      "#ab63fa",
                      "#FFA15A",
                      "#19d3f3",
                      "#FF6692",
                      "#B6E880",
                      "#FF97FF",
                      "#FECB52"
                    ],
                    "font": {
                      "color": "#2a3f5f"
                    },
                    "geo": {
                      "bgcolor": "white",
                      "lakecolor": "white",
                      "landcolor": "#E5ECF6",
                      "showlakes": true,
                      "showland": true,
                      "subunitcolor": "white"
                    },
                    "hoverlabel": {
                      "align": "left"
                    },
                    "hovermode": "closest",
                    "mapbox": {
                      "style": "light"
                    },
                    "paper_bgcolor": "white",
                    "plot_bgcolor": "#E5ECF6",
                    "polar": {
                      "angularaxis": {
                        "gridcolor": "white",
                        "linecolor": "white",
                        "ticks": ""
                      },
                      "bgcolor": "#E5ECF6",
                      "radialaxis": {
                        "gridcolor": "white",
                        "linecolor": "white",
                        "ticks": ""
                      }
                    },
                    "scene": {
                      "xaxis": {
                        "backgroundcolor": "#E5ECF6",
                        "gridcolor": "white",
                        "gridwidth": 2,
                        "linecolor": "white",
                        "showbackground": true,
                        "ticks": "",
                        "zerolinecolor": "white"
                      },
                      "yaxis": {
                        "backgroundcolor": "#E5ECF6",
                        "gridcolor": "white",
                        "gridwidth": 2,
                        "linecolor": "white",
                        "showbackground": true,
                        "ticks": "",
                        "zerolinecolor": "white"
                      },
                      "zaxis": {
                        "backgroundcolor": "#E5ECF6",
                        "gridcolor": "white",
                        "gridwidth": 2,
                        "linecolor": "white",
                        "showbackground": true,
                        "ticks": "",
                        "zerolinecolor": "white"
                      }
                    },
                    "shapedefaults": {
                      "line": {
                        "color": "#2a3f5f"
                      }
                    },
                    "ternary": {
                      "aaxis": {
                        "gridcolor": "white",
                        "linecolor": "white",
                        "ticks": ""
                      },
                      "baxis": {
                        "gridcolor": "white",
                        "linecolor": "white",
                        "ticks": ""
                      },
                      "bgcolor": "#E5ECF6",
                      "caxis": {
                        "gridcolor": "white",
                        "linecolor": "white",
                        "ticks": ""
                      }
                    },
                    "title": {
                      "x": 0.05
                    },
                    "xaxis": {
                      "automargin": true,
                      "gridcolor": "white",
                      "linecolor": "white",
                      "ticks": "",
                      "title": {
                        "standoff": 15
                      },
                      "zerolinecolor": "white",
                      "zerolinewidth": 2
                    },
                    "yaxis": {
                      "automargin": true,
                      "gridcolor": "white",
                      "linecolor": "white",
                      "ticks": "",
                      "title": {
                        "standoff": 15
                      },
                      "zerolinecolor": "white",
                      "zerolinewidth": 2
                    }
                  }
                },
                "title": {
                  "text": "Normal vs Attack"
                },
                "xaxis": {
                  "anchor": "y",
                  "domain": [
                    0,
                    1
                  ],
                  "title": {
                    "text": "x"
                  }
                },
                "yaxis": {
                  "anchor": "x",
                  "domain": [
                    0,
                    1
                  ],
                  "title": {
                    "text": "y"
                  }
                }
              }
            }
          },
          "metadata": {},
          "output_type": "display_data"
        }
      ],
      "source": [
        "fig = px.bar(df, y=[value_counts[0],value_counts[1]],x=['Normal','Attack'], text_auto='.2s', title=\"Normal vs Attack\")\n",
        "fig.show()"
      ]
    },
    {
      "cell_type": "code",
      "execution_count": 38,
      "metadata": {
        "colab": {
          "base_uri": "https://localhost:8080/",
          "height": 297
        },
        "id": "NuFqs--uja_J",
        "outputId": "00ec3c22-7920-4a48-e75c-ca81fbed0862"
      },
      "outputs": [
        {
          "data": {
            "text/plain": [
              "<AxesSubplot:xlabel='protocol_type', ylabel='count'>"
            ]
          },
          "execution_count": 38,
          "metadata": {},
          "output_type": "execute_result"
        },
        {
          "data": {
            "image/png": "[encoded data removed]",
            "text/plain": [
              "<Figure size 640x480 with 1 Axes>"
            ]
          },
          "metadata": {},
          "output_type": "display_data"
        }
      ],
      "source": [
        "sns.countplot(x='protocol_type',data=df, palette ='CMRmap')"
      ]
    },
    {
      "cell_type": "code",
      "execution_count": 39,
      "metadata": {
        "colab": {
          "base_uri": "https://localhost:8080/",
          "height": 297
        },
        "id": "UmxzHHmhkM7i",
        "outputId": "fffd739d-0a81-4c58-e427-70dc95bfd191"
      },
      "outputs": [
        {
          "data": {
            "text/plain": [
              "<AxesSubplot:xlabel='protocol_type', ylabel='count'>"
            ]
          },
          "execution_count": 39,
          "metadata": {},
          "output_type": "execute_result"
        },
        {
          "data": {
            "image/png": "[encoded data removed]",
            "text/plain": [
              "<Figure size 640x480 with 1 Axes>"
            ]
          },
          "metadata": {},
          "output_type": "display_data"
        }
      ],
      "source": [
        "sns.countplot(x='protocol_type',hue='attack' , data = df , palette ='CMRmap')"
      ]
    },
    {
      "cell_type": "code",
      "execution_count": 19,
      "metadata": {
        "id": "Ds2lb3rtkV3x"
      },
      "outputs": [],
      "source": []
    },
    {
      "cell_type": "markdown",
      "metadata": {
        "id": "QqWFih6zlG9O"
      },
      "source": [
        "**Doing Label Encoding on object type**"
      ]
    },
    {
      "cell_type": "code",
      "execution_count": 40,
      "metadata": {
        "id": "4Z2LR-RRk6p2"
      },
      "outputs": [],
      "source": [
        "data_obj = df.select_dtypes(['object']).columns"
      ]
    },
    {
      "cell_type": "code",
      "execution_count": 41,
      "metadata": {
        "colab": {
          "base_uri": "https://localhost:8080/"
        },
        "id": "hr0Jz2PXoWff",
        "outputId": "0550d5a9-f32e-4596-bd45-10e513ce997b"
      },
      "outputs": [
        {
          "data": {
            "text/plain": [
              "Index(['protocol_type', 'service', 'flag', 'attack'], dtype='object')"
            ]
          },
          "execution_count": 41,
          "metadata": {},
          "output_type": "execute_result"
        }
      ],
      "source": [
        "data_obj"
      ]
    },
    {
      "cell_type": "code",
      "execution_count": 42,
      "metadata": {
        "id": "HDfYdsO0lGWr"
      },
      "outputs": [],
      "source": [
        "from sklearn.preprocessing import LabelEncoder\n",
        "protocol_type_le = LabelEncoder()\n",
        "service_le = LabelEncoder()\n",
        "flag_le = LabelEncoder()\n",
        "# attack_le = LabelEncoder()"
      ]
    },
    {
      "cell_type": "code",
      "execution_count": 43,
      "metadata": {
        "id": "q4OTs67hlMAR"
      },
      "outputs": [],
      "source": [
        "df['protocol_type'] = protocol_type_le.fit_transform(df['protocol_type'])\n",
        "df['service'] = service_le.fit_transform(df['service'])\n",
        "df['flag'] = flag_le.fit_transform(df['flag'])\n",
        "df['attack'] = df['attack'].map({'attack':1,'normal':0})"
      ]
    },
    {
      "cell_type": "code",
      "execution_count": 44,
      "metadata": {
        "colab": {
          "base_uri": "https://localhost:8080/"
        },
        "id": "UMWeYasolUC4",
        "outputId": "ad4eb832-aff4-471e-f121-9befa1cafaf4"
      },
      "outputs": [
        {
          "name": "stdout",
          "output_type": "stream",
          "text": [
            "1    102689\n",
            "2     14993\n",
            "0      8291\n",
            "Name: protocol_type, dtype: int64\n",
            "\n",
            "--------------------------\n",
            "24    40338\n",
            "49    21853\n",
            "12     9043\n",
            "54     7313\n",
            "20     6860\n",
            "      ...  \n",
            "61        3\n",
            "27        2\n",
            "3         2\n",
            "22        2\n",
            "25        1\n",
            "Name: service, Length: 70, dtype: int64\n",
            "\n",
            "--------------------------\n",
            "9     74945\n",
            "5     34851\n",
            "1     11233\n",
            "4      2421\n",
            "2      1562\n",
            "6       365\n",
            "10      271\n",
            "7       127\n",
            "3       103\n",
            "8        49\n",
            "0        46\n",
            "Name: flag, dtype: int64\n",
            "\n",
            "--------------------------\n",
            "0    67343\n",
            "1    58630\n",
            "Name: attack, dtype: int64\n"
          ]
        }
      ],
      "source": [
        "print(df.protocol_type.value_counts(),end=\"\\n\\n--------------------------\\n\")\n",
        "print(df.service.value_counts(),end=\"\\n\\n--------------------------\\n\")\n",
        "print(df.flag.value_counts(),end=\"\\n\\n--------------------------\\n\")\n",
        "print(df.attack.value_counts())"
      ]
    },
    {
      "cell_type": "markdown",
      "metadata": {
        "id": "tTW4iTU8qd12"
      },
      "source": [
        "**Correlation table**"
      ]
    },
    {
      "cell_type": "code",
      "execution_count": 17,
      "metadata": {
        "colab": {
          "base_uri": "https://localhost:8080/",
          "height": 542
        },
        "id": "BCTOLknrmFo9",
        "outputId": "678b2a04-5d08-4201-beda-c013e9a4546b"
      },
      "outputs": [
        {
          "data": {
            "application/vnd.plotly.v1+json": {
              "config": {
                "plotlyServerURL": "https://plot.ly"
              },
              "data": [
                {
                  "coloraxis": "coloraxis",
                  "hovertemplate": "x: %{x}<br>y: %{y}<br>color: %{z}<extra></extra>",
                  "name": "0",
                  "texttemplate": "%{z}",
                  "type": "heatmap",
                  "x": [
                    "duration",
                    "protocol_type",
                    "service",
                    "flag",
                    "src_bytes",
                    "dst_bytes",
                    "land",
                    "wrong_fragment",
                    "urgent",
                    "hot",
                    "num_failed_logins",
                    "logged_in",
                    "num_compromised",
                    "root_shell",
                    "su_attempted",
                    "num_root",
                    "num_file_creations",
                    "num_shells",
                    "num_access_files",
                    "num_outbound_cmds",
                    "is_host_login",
                    "is_guest_login",
                    "count",
                    "srv_count",
                    "serror_rate",
                    "srv_serror_rate",
                    "rerror_rate",
                    "srv_rerror_rate",
                    "same_srv_rate",
                    "diff_srv_rate",
                    "srv_diff_host_rate",
                    "dst_host_count",
                    "dst_host_srv_count",
                    "dst_host_same_srv_rate",
                    "dst_host_diff_srv_rate",
                    "dst_host_same_src_port_rate",
                    "dst_host_srv_diff_host_rate",
                    "dst_host_serror_rate",
                    "dst_host_srv_serror_rate",
                    "dst_host_rerror_rate",
                    "dst_host_srv_rerror_rate",
                    "attack"
                  ],
                  "xaxis": "x",
                  "y": [
                    "duration",
                    "protocol_type",
                    "service",
                    "flag",
                    "src_bytes",
                    "dst_bytes",
                    "land",
                    "wrong_fragment",
                    "urgent",
                    "hot",
                    "num_failed_logins",
                    "logged_in",
                    "num_compromised",
                    "root_shell",
                    "su_attempted",
                    "num_root",
                    "num_file_creations",
                    "num_shells",
                    "num_access_files",
                    "num_outbound_cmds",
                    "is_host_login",
                    "is_guest_login",
                    "count",
                    "srv_count",
                    "serror_rate",
                    "srv_serror_rate",
                    "rerror_rate",
                    "srv_rerror_rate",
                    "same_srv_rate",
                    "diff_srv_rate",
                    "srv_diff_host_rate",
                    "dst_host_count",
                    "dst_host_srv_count",
                    "dst_host_same_srv_rate",
                    "dst_host_diff_srv_rate",
                    "dst_host_same_src_port_rate",
                    "dst_host_srv_diff_host_rate",
                    "dst_host_serror_rate",
                    "dst_host_srv_serror_rate",
                    "dst_host_rerror_rate",
                    "dst_host_srv_rerror_rate",
                    "attack"
                  ],
                  "yaxis": "y",
                  "z": [
                    [
                      1,
                      0.03824145372406423,
                      0.09285755775762781,
                      -0.06338954891932967,
                      0.07073682819085284,
                      0.0348777983343698,
                      -0.0015532805525947152,
                      -0.009865808515814936,
                      0.0038298971819158696,
                      0.0007051205662111453,
                      0.00952824993634988,
                      -0.06421767647301042,
                      0.04267947481744216,
                      0.052790950792929066,
                      0.08718341292134528,
                      0.04551915736140821,
                      0.09911569750163153,
                      -0.001593467346835238,
                      0.07041992093461003,
                      null,
                      -0.00025761943672739687,
                      0.00044022488199309674,
                      -0.0790423188965538,
                      -0.03947023790265714,
                      -0.06987295957015226,
                      -0.0695102829381316,
                      0.20068198441424187,
                      0.1999610816706728,
                      0.07468058598343376,
                      -0.013737578959260095,
                      -0.040158095326093636,
                      0.05057003428877878,
                      -0.10977556119998436,
                      -0.1160049555779,
                      0.2541951745852436,
                      0.2287373765622766,
                      -0.026669376728930015,
                      -0.06494796244229974,
                      -0.06436051447487312,
                      0.1738152898998139,
                      0.19902360421159196,
                      0.048785327423118766
                    ],
                    [
                      0.03824145372406423,
                      1,
                      0.029993607946820062,
                      0.09366820188872849,
                      -0.0009736572870160206,
                      -0.0006084713116988135,
                      -0.001756961567200781,
                      0.16953456694791869,
                      -0.0009647249611789024,
                      -0.011856521592063993,
                      -0.003369911820615757,
                      -0.10091993117861306,
                      -0.0014545280422911153,
                      -0.004570713736771803,
                      -0.003047382903929741,
                      -0.0015445045025276167,
                      -0.003264810198488417,
                      -0.0023207686493245394,
                      -0.0051405371266192035,
                      null,
                      -0.0003513588384725163,
                      -0.012162709182460959,
                      -0.057612211607323355,
                      0.03732875283296255,
                      -0.07660897564948885,
                      -0.07880544100159943,
                      -0.046543587731822995,
                      -0.04669392617201245,
                      0.04595109806192401,
                      0.014730048113819453,
                      -0.23656953814536844,
                      0.23614000096937252,
                      0.10391863847667178,
                      0.0017017170246128976,
                      0.1313802829635008,
                      -0.20910522659433203,
                      -0.35618296174348085,
                      -0.07939797157469959,
                      -0.07792523587308232,
                      -0.015434298609394173,
                      -0.04693777945442671,
                      -0.28135478776677386
                    ],
                    [
                      0.09285755775762781,
                      0.029993607946820062,
                      1,
                      -0.3040138206623354,
                      -0.0016309691871314305,
                      0.003595717646988596,
                      -0.009951792479436368,
                      0.08440418595177437,
                      0.01098046423728732,
                      -0.06406644459768464,
                      0.03304256411741498,
                      -0.13942737155160567,
                      0.01979770133808874,
                      0.033257848923430026,
                      0.04294949140627135,
                      0.020174372688509298,
                      0.040815679975433984,
                      0.0025445599743887755,
                      0.030100163788282914,
                      null,
                      0.004959454272886249,
                      -0.07274322854963836,
                      0.09926034613293688,
                      -0.2609273277895558,
                      0.2762322596574665,
                      0.27334627215697443,
                      0.14783911356068521,
                      0.14703383351785032,
                      -0.36953550163668847,
                      0.20991719925152222,
                      -0.09017189492598866,
                      0.19285650336563007,
                      -0.40769591000718525,
                      -0.4526961665453075,
                      0.2840723209604493,
                      -0.1111629315854195,
                      -0.15621058166214946,
                      0.28163461140878665,
                      0.2775942198241544,
                      0.15066648078571526,
                      0.14840516399983447,
                      0.27654838132260356
                    ],
                    [
                      -0.06338954891932967,
                      0.09366820188872849,
                      -0.3040138206623354,
                      1,
                      -0.008114267564306495,
                      -0.00409645246699213,
                      -0.010372671256154245,
                      0.06721426163393518,
                      0.005810585672499392,
                      0.06843729968842743,
                      -0.006062727298961479,
                      0.5893630615332401,
                      0.007204079935620577,
                      0.022045974971584763,
                      0.012013677905693305,
                      0.007713144532124496,
                      0.01565678705781955,
                      0.01397810319582857,
                      0.029476479548296564,
                      null,
                      0.002116251486060586,
                      0.07075130544784698,
                      -0.4707206152955709,
                      0.1971779267150833,
                      -0.4515837393642284,
                      -0.4469147115213066,
                      -0.7392499841493237,
                      -0.7399567312136527,
                      0.7171271661211576,
                      -0.29586087616523055,
                      0.21311356734792938,
                      -0.3167521878984696,
                      0.5826870843863955,
                      0.6301183245778188,
                      -0.2836070740133991,
                      0.19568944946190014,
                      0.07377278021137183,
                      -0.4434405441385708,
                      -0.44322472168965643,
                      -0.6833097055667018,
                      -0.7187779083961026,
                      -0.6470730069806998
                    ],
                    [
                      0.07073682819085284,
                      -0.0009736572870160206,
                      -0.0016309691871314305,
                      -0.008114267564306495,
                      1,
                      0.00020388285761542536,
                      -0.00010936074863443574,
                      -0.0006926548846872326,
                      -0.00005882150329703924,
                      0.00029494482697164866,
                      -0.0002082552402834892,
                      -0.003352701892719605,
                      -0.0000855780041113033,
                      -0.0002719092436242283,
                      -0.00018554151338019025,
                      -0.00009345557461970888,
                      -0.00017877782478795977,
                      -0.0001341555152979081,
                      -0.00030945095059966307,
                      null,
                      -0.000021780314189586445,
                      -0.0007415524478460797,
                      -0.0051521094087675695,
                      -0.002792373754854404,
                      -0.0032283690910251727,
                      -0.003438183465552919,
                      0.013781667466759132,
                      0.013975377301566389,
                      0.0038986968088006845,
                      -0.0004320053443997703,
                      -0.0026080961517649954,
                      -0.0057908826697756575,
                      -0.0068605026289299854,
                      -0.00657185417146129,
                      0.0009001340104720489,
                      0.0004313195861868898,
                      -0.0016548715528629785,
                      -0.00450274189046821,
                      -0.0033970208665768695,
                      -0.001468269635838308,
                      0.012449289597552407,
                      0.0059213227561141345
                    ],
                    [
                      0.0348777983343698,
                      -0.0006084713116988135,
                      0.003595717646988596,
                      -0.00409645246699213,
                      0.00020388285761542536,
                      1,
                      -0.00006929785483969706,
                      -0.0004401505789847372,
                      0.000248197492653182,
                      -0.0003439344442699285,
                      0.0005039616026691721,
                      -0.002894159455932655,
                      0.0012326151192331412,
                      0.0010691333602385355,
                      0.0011334146784607473,
                      0.001229255485270817,
                      0.00008857434689626274,
                      -0.00008338780401174289,
                      0.00033948839987967916,
                      null,
                      -0.000008427506964028289,
                      -0.0004206422048272865,
                      -0.0035429875502724245,
                      -0.0017544106808313528,
                      -0.0030589111050155675,
                      -0.0030379473066900493,
                      0.011176399358201854,
                      0.01105162512704318,
                      0.0037877424182033927,
                      -0.0017027504091802778,
                      -0.0016743133395838701,
                      0.002527818265981304,
                      -0.004223696085325192,
                      -0.004423514782546861,
                      0.011031428224589756,
                      0.011747316149482186,
                      -0.0012806096135408486,
                      -0.0030235657657113942,
                      -0.002943924463584744,
                      0.011729272441183755,
                      0.011223330790380369,
                      0.004117535029285793
                    ],
                    [
                      -0.0015532805525947152,
                      -0.001756961567200781,
                      -0.009951792479436368,
                      -0.010372671256154245,
                      -0.00010936074863443574,
                      -0.00006929785483969706,
                      1,
                      -0.0012607573549762074,
                      -0.00010899083684383468,
                      -0.0013395032391375792,
                      -0.0003807194010715765,
                      -0.011401537428799888,
                      -0.00016432686508744467,
                      -0.0005163812850199096,
                      -0.0003442813509013078,
                      -0.00017449205215323304,
                      -0.0003688454326243303,
                      -0.00026219132642915275,
                      -0.0005807576934387023,
                      null,
                      -0.0000396951414948403,
                      -0.0013740951104495697,
                      -0.009836557678270758,
                      -0.005031062869801056,
                      0.02173389820624679,
                      0.02261400413613031,
                      -0.004095980182299055,
                      -0.005275296373375304,
                      0.008738500336686206,
                      -0.00155118605040896,
                      0.03810154077783172,
                      -0.025498819535098582,
                      -0.01415889846646626,
                      0.011597428318772881,
                      -0.004515606759084695,
                      0.03385103676196789,
                      0.07047419313059115,
                      0.019840027038666268,
                      0.012275756097814465,
                      -0.005222327945813241,
                      -0.00530284595940963,
                      0.007190758994807418
                    ],
                    [
                      -0.009865808515814936,
                      0.16953456694791869,
                      0.08440418595177437,
                      0.06721426163393518,
                      -0.0006926548846872326,
                      -0.0004401505789847372,
                      -0.0012607573549762074,
                      1,
                      -0.0006922656209681475,
                      -0.008507981666009759,
                      -0.0024181753276660643,
                      -0.07241794463371991,
                      -0.0010437376443352148,
                      -0.0032798446299006434,
                      -0.0021867356015527616,
                      -0.0011083027925635578,
                      -0.002342756692682295,
                      -0.001665333037703026,
                      -0.0036887374840182605,
                      null,
                      -0.00025212745008754595,
                      -0.008727695212282859,
                      -0.020818565458606997,
                      0.02445668690513263,
                      -0.04331631510909047,
                      -0.056549068124008235,
                      -0.033051830957136,
                      -0.033506544453256494,
                      0.054759224152193524,
                      -0.026638155147263656,
                      -0.026246711800449702,
                      0.041056258721931596,
                      -0.04524007300633404,
                      -0.048733381850538715,
                      0.059796526849251096,
                      0.037176632407890334,
                      -0.01625198519259923,
                      -0.05191664250134102,
                      -0.055917452094164016,
                      0.028890447180472796,
                      -0.03368152825772798,
                      0.09590548069944738
                    ],
                    [
                      0.0038298971819158696,
                      -0.0009647249611789024,
                      0.01098046423728732,
                      0.005810585672499392,
                      -0.00005882150329703924,
                      0.000248197492653182,
                      -0.00010899083684383468,
                      -0.0006922656209681475,
                      1,
                      0.0002925530803754948,
                      0.09750679083276134,
                      0.007299346555579023,
                      0.03332901859034761,
                      0.07519865028499512,
                      0.0977102119682905,
                      0.032470244713504195,
                      0.024917775916444087,
                      -0.0001439658794664442,
                      0.010802679755348927,
                      null,
                      -0.00002179609079247693,
                      -0.0007544979223402105,
                      -0.005614611567521559,
                      -0.0028476950964348106,
                      -0.004929441356684321,
                      -0.004888593537248153,
                      -0.002896060683104945,
                      -0.002896597275670505,
                      0.005966634559277619,
                      -0.0027051426914182436,
                      -0.0028975882654111895,
                      -0.006940618656588803,
                      -0.007897259595733794,
                      -0.004489245998173225,
                      0.006840358566160813,
                      0.0027408854109334793,
                      0.005176047956153823,
                      -0.004748635010127785,
                      -0.004833991151321223,
                      -0.002998735643827585,
                      -0.002911724398433842,
                      -0.002787032403358984
                    ],
                    [
                      0.0007051205662111453,
                      -0.011856521592063993,
                      -0.06406644459768464,
                      0.06843729968842743,
                      0.00029494482697164866,
                      -0.0003439344442699285,
                      -0.0013395032391375792,
                      -0.008507981666009759,
                      0.0002925530803754948,
                      1,
                      0.003715280972689601,
                      0.11643491947884911,
                      0.0020135061721184623,
                      0.015378729132079383,
                      0.00012978251546963906,
                      0.0015103092801168057,
                      0.02871634182195081,
                      0.004722596994901451,
                      -0.001986969481634009,
                      null,
                      0.0010426116043715167,
                      0.8602881047178524,
                      -0.06869720022902275,
                      -0.0345753470402667,
                      -0.05908255541250928,
                      -0.05871269191309294,
                      -0.03238206373185847,
                      -0.031435866790705196,
                      0.06936538674481968,
                      -0.016212464231743363,
                      -0.026780513925871437,
                      -0.012249442392107776,
                      -0.05186388437059426,
                      -0.03629284179619778,
                      -0.012293150111823721,
                      -0.03453629138310045,
                      -0.024714964088818375,
                      -0.05822247853498551,
                      -0.058214433297080904,
                      -0.0305548446203161,
                      -0.031669834430818236,
                      -0.013083414309389876
                    ],
                    [
                      0.00952824993634988,
                      -0.003369911820615757,
                      0.03304256411741498,
                      -0.006062727298961479,
                      -0.0002082552402834892,
                      0.0005039616026691721,
                      -0.0003807194010715765,
                      -0.0024181753276660643,
                      0.09750679083276134,
                      0.003715280972689601,
                      1,
                      -0.006438663493734795,
                      0.01908493448653613,
                      0.03256746940875999,
                      0.07317517463956119,
                      0.018111903684470063,
                      0.021773573717499852,
                      -0.0005028918484564124,
                      0.0006519553092557969,
                      null,
                      -0.00007613662645882297,
                      0.006445761671572438,
                      -0.019543622208110727,
                      -0.009879733066802671,
                      -0.015254005709568825,
                      -0.01589888795695316,
                      0.022192639099095832,
                      0.021870147326915734,
                      0.019477165227638947,
                      -0.004437682037943637,
                      -0.010121658855964229,
                      -0.025475566393806173,
                      -0.023052821172941978,
                      -0.0015756178407120049,
                      -0.0019453773890001648,
                      -0.005525675862659206,
                      0.003302430719316954,
                      -0.011648294324641307,
                      -0.0122988093756839,
                      0.018660188941808587,
                      0.017359014831386854,
                      -0.003755073924083278
                    ],
                    [
                      -0.06421767647301042,
                      -0.10091993117861306,
                      -0.13942737155160567,
                      0.5893630615332401,
                      -0.003352701892719605,
                      -0.002894159455932655,
                      -0.011401537428799888,
                      -0.07241794463371991,
                      0.007299346555579023,
                      0.11643491947884911,
                      -0.006438663493734795,
                      1,
                      0.014412693561164657,
                      0.04529049597430118,
                      0.030196046195634707,
                      0.015304256399007253,
                      0.0322834106876876,
                      0.02299613785127457,
                      0.05093678787316165,
                      null,
                      0.0034815604248749775,
                      0.11967827706914552,
                      -0.5397536337098285,
                      -0.1997440576253435,
                      -0.491924995023048,
                      -0.49016700659470086,
                      -0.2875142957566356,
                      -0.2835315069373967,
                      0.6005357192353573,
                      -0.2213231255307837,
                      0.13107431058413793,
                      -0.4010836755375544,
                      0.6243646043689399,
                      0.6040583060021741,
                      -0.256064556823491,
                      -0.16099393806467713,
                      -0.05595329902926164,
                      -0.49147810664592145,
                      -0.4932639954458706,
                      -0.27597209668825334,
                      -0.2728057413687,
                      -0.6901707395800081
                    ],
                    [
                      0.04267947481744216,
                      -0.0014545280422911153,
                      0.01979770133808874,
                      0.007204079935620577,
                      -0.0000855780041113033,
                      0.0012326151192331412,
                      -0.00016432686508744467,
                      -0.0010437376443352148,
                      0.03332901859034761,
                      0.0020135061721184623,
                      0.01908493448653613,
                      0.014412693561164657,
                      1,
                      0.224872231307239,
                      0.3627016004469931,
                      0.9988334525784719,
                      0.01597625118465474,
                      0.0013375258482389786,
                      0.2996313980365815,
                      null,
                      0.0011439400856640383,
                      -0.0011375660732910954,
                      -0.008433827736187404,
                      -0.00427941468298063,
                      -0.005297422440052345,
                      -0.005277504915784943,
                      -0.0036820304931683596,
                      -0.003642362766073447,
                      0.008943531210242075,
                      -0.004034685755006929,
                      -0.004227201550703285,
                      -0.010928059708850375,
                      -0.010321457205164293,
                      -0.004994995318291278,
                      0.002980582755620339,
                      -0.0020447818460798688,
                      0.004251549261885726,
                      -0.004377371060365315,
                      -0.0048977925820792205,
                      -0.0036466777033217603,
                      -0.0032188634822749246,
                      -0.010198327575651513
                    ],
                    [
                      0.052790950792929066,
                      -0.004570713736771803,
                      0.033257848923430026,
                      0.022045974971584763,
                      -0.0002719092436242283,
                      0.0010691333602385355,
                      -0.0005163812850199096,
                      -0.0032798446299006434,
                      0.07519865028499512,
                      0.015378729132079383,
                      0.03256746940875999,
                      0.04529049597430118,
                      0.224872231307239,
                      1,
                      0.6090834457114719,
                      0.24334852609632268,
                      0.06491860183864219,
                      0.11664782621818333,
                      0.3651521597388247,
                      null,
                      -0.0001032664185151289,
                      -0.0035746913957648866,
                      -0.02562953198170116,
                      -0.011891540503899642,
                      -0.01822029629491132,
                      -0.017795550433704642,
                      -0.008983365167760639,
                      -0.00936797176176384,
                      0.02765231440874895,
                      -0.009809624635337055,
                      -0.012125723932991996,
                      -0.029884517080622803,
                      -0.00649114209101233,
                      0.0076084918498169835,
                      -0.005141438748841565,
                      0.0015679585881101662,
                      0.013391140248238969,
                      -0.017408452083235774,
                      -0.015744360091209397,
                      -0.009106777779188988,
                      -0.009742351344006911,
                      -0.02028540195274874
                    ],
                    [
                      0.08718341292134528,
                      -0.003047382903929741,
                      0.04294949140627135,
                      0.012013677905693305,
                      -0.00018554151338019025,
                      0.0011334146784607473,
                      -0.0003442813509013078,
                      -0.0021867356015527616,
                      0.0977102119682905,
                      0.00012978251546963906,
                      0.07317517463956119,
                      0.030196046195634707,
                      0.3627016004469931,
                      0.6090834457114719,
                      1,
                      0.3910378673426708,
                      0.044406709340730384,
                      0.007471026447273882,
                      0.5651311920438137,
                      null,
                      -0.00006884971067020278,
                      -0.002383315620630536,
                      -0.017729350327904073,
                      -0.008990487227431072,
                      -0.007301901202676824,
                      -0.006790081744723054,
                      -0.005856281244453088,
                      -0.006433835594934537,
                      0.018447570390625456,
                      -0.006595072286408839,
                      -0.009152930936762102,
                      -0.013013745395590267,
                      -0.02103669945425832,
                      -0.015605773764878093,
                      0.00383371375196727,
                      -0.005982282265589456,
                      0.00947485595720706,
                      -0.005730752750914183,
                      -0.004161396704265254,
                      -0.004873170191808963,
                      -0.005240828137026714,
                      -0.022448496646234894
                    ],
                    [
                      0.04551915736140821,
                      -0.0015445045025276167,
                      0.020174372688509298,
                      0.007713144532124496,
                      -0.00009345557461970888,
                      0.001229255485270817,
                      -0.00017449205215323304,
                      -0.0011083027925635578,
                      0.032470244713504195,
                      0.0015103092801168057,
                      0.018111903684470063,
                      0.015304256399007253,
                      0.9988334525784719,
                      0.24334852609632268,
                      0.3910378673426708,
                      1,
                      0.016396922546834745,
                      0.002028325323938995,
                      0.32779152872622735,
                      null,
                      0.0011198381948280141,
                      -0.0012079354065619645,
                      -0.008969939059215441,
                      -0.004552592189054959,
                      -0.0057143735048754635,
                      -0.005675275519717405,
                      -0.003986728800649213,
                      -0.004001072891357721,
                      0.009471251253449692,
                      -0.004074483663488424,
                      -0.004502269637001941,
                      -0.011545985325840388,
                      -0.011126106849987076,
                      -0.005918364359600287,
                      0.0033424211283111806,
                      -0.0016457788840946543,
                      0.004495915235906822,
                      -0.0048033325856438325,
                      -0.005281509249608026,
                      -0.0038268891177502583,
                      -0.003496964182017756,
                      -0.011452491337109728
                    ],
                    [
                      0.09911569750163153,
                      -0.003264810198488417,
                      0.040815679975433984,
                      0.01565678705781955,
                      -0.00017877782478795977,
                      0.00008857434689626274,
                      -0.0003688454326243303,
                      -0.002342756692682295,
                      0.024917775916444087,
                      0.02871634182195081,
                      0.021773573717499852,
                      0.0322834106876876,
                      0.01597625118465474,
                      0.06491860183864219,
                      0.044406709340730384,
                      0.016396922546834745,
                      1,
                      0.03870783214516718,
                      0.10341431983788142,
                      null,
                      -0.00007376205900124522,
                      0.0022006943523741208,
                      -0.018700785563008342,
                      -0.009519926812804714,
                      -0.01207803746688055,
                      -0.01249386590527317,
                      -0.00703595720794909,
                      -0.0071164005089509735,
                      0.019046332244005294,
                      -0.007869273748745574,
                      -0.007364672140937501,
                      -0.0013439048069056856,
                      -0.019310887277577127,
                      -0.017324792110366635,
                      0.006183850225020234,
                      -0.006837156851725642,
                      0.0009737845201746696,
                      0.003405263443942446,
                      -0.00024702006583729544,
                      -0.005235085637668479,
                      -0.004175763671835976,
                      -0.021270729449097338
                    ],
                    [
                      -0.001593467346835238,
                      -0.0023207686493245394,
                      0.0025445599743887755,
                      0.01397810319582857,
                      -0.0001341555152979081,
                      -0.00008338780401174289,
                      -0.00026219132642915275,
                      -0.001665333037703026,
                      -0.0001439658794664442,
                      0.004722596994901451,
                      -0.0005028918484564124,
                      0.02299613785127457,
                      0.0013375258482389786,
                      0.11664782621818333,
                      0.007471026447273882,
                      0.002028325323938995,
                      0.03870783214516718,
                      1,
                      0.01724060861012758,
                      null,
                      -0.00005243326981733207,
                      -0.0018150407573240175,
                      -0.012537791687509955,
                      -0.005505394617514403,
                      -0.011545769869404707,
                      -0.011704092136525596,
                      -0.006966842478790847,
                      -0.006968133320485207,
                      0.011276311823817541,
                      -0.0019028803400338678,
                      -0.006309377253801655,
                      -0.009944892132067918,
                      -0.011903168622677507,
                      -0.006133794513650693,
                      -0.0031701147636631353,
                      0.013162262639782187,
                      -0.001978238846980411,
                      -0.010895842121529725,
                      -0.009115308386369751,
                      -0.004552102221880253,
                      -0.006780467491243171,
                      -0.009471997356955454
                    ],
                    [
                      0.07041992093461003,
                      -0.0051405371266192035,
                      0.030100163788282914,
                      0.029476479548296564,
                      -0.00030945095059966307,
                      0.00033948839987967916,
                      -0.0005807576934387023,
                      -0.0036887374840182605,
                      0.010802679755348927,
                      -0.001986969481634009,
                      0.0006519553092557969,
                      0.05093678787316165,
                      0.2996313980365815,
                      0.3651521597388247,
                      0.5651311920438137,
                      0.32779152872622735,
                      0.10341431983788142,
                      0.01724060861012758,
                      1,
                      null,
                      -0.00011614047365061012,
                      -0.0023665914649496135,
                      -0.02934608746653955,
                      -0.014202802647343603,
                      -0.024119313932841745,
                      -0.02422784014881479,
                      -0.014466847322064814,
                      -0.012396022260472409,
                      0.03082466883474652,
                      -0.01207953649066613,
                      0.007536362356954005,
                      -0.007394545782106298,
                      0.002382856132769071,
                      0.0069253244724841725,
                      0.0004893386025838661,
                      -0.011846944541976948,
                      0.00004832764090413717,
                      -0.017951272059329938,
                      -0.019736902509074988,
                      -0.013226914031388825,
                      -0.012854407511593245,
                      -0.03670050588662517
                    ],
                    [
                      null,
                      null,
                      null,
                      null,
                      null,
                      null,
                      null,
                      null,
                      null,
                      null,
                      null,
                      null,
                      null,
                      null,
                      null,
                      null,
                      null,
                      null,
                      null,
                      null,
                      null,
                      null,
                      null,
                      null,
                      null,
                      null,
                      null,
                      null,
                      null,
                      null,
                      null,
                      null,
                      null,
                      null,
                      null,
                      null,
                      null,
                      null,
                      null,
                      null,
                      null,
                      null
                    ],
                    [
                      -0.00025761943672739687,
                      -0.0003513588384725163,
                      0.004959454272886249,
                      0.002116251486060586,
                      -0.000021780314189586445,
                      -0.000008427506964028289,
                      -0.0000396951414948403,
                      -0.00025212745008754595,
                      -0.00002179609079247693,
                      0.0010426116043715167,
                      -0.00007613662645882297,
                      0.0034815604248749775,
                      0.0011439400856640383,
                      -0.0001032664185151289,
                      -0.00006884971067020278,
                      0.0011198381948280141,
                      -0.00007376205900124522,
                      -0.00005243326981733207,
                      -0.00011614047365061012,
                      null,
                      1,
                      -0.00027479284178513476,
                      -0.0020448764966423034,
                      -0.001037148287512543,
                      -0.0017953332391095298,
                      -0.0017804562089001213,
                      -0.0010547633353637832,
                      -0.0010549587657176856,
                      0.0021730854623851306,
                      -0.0009852298138919497,
                      -0.0010553196903524064,
                      0.002069005701624678,
                      -0.0024853751418309517,
                      -0.0028318912570599853,
                      0.0074127908448193775,
                      -0.0013529516989364213,
                      -0.0008145470728877854,
                      0.0018721595259642764,
                      -0.000685835438595904,
                      -0.0010921581954445717,
                      -0.0005312919581340987,
                      -0.002628915972776081
                    ],
                    [
                      0.00044022488199309674,
                      -0.012162709182460959,
                      -0.07274322854963836,
                      0.07075130544784698,
                      -0.0007415524478460797,
                      -0.0004206422048272865,
                      -0.0013740951104495697,
                      -0.008727695212282859,
                      -0.0007544979223402105,
                      0.8602881047178524,
                      0.006445761671572438,
                      0.11967827706914552,
                      -0.0011375660732910954,
                      -0.0035746913957648866,
                      -0.002383315620630536,
                      -0.0012079354065619645,
                      0.0022006943523741208,
                      -0.0018150407573240175,
                      -0.0023665914649496135,
                      null,
                      -0.00027479284178513476,
                      1,
                      -0.0707291748285913,
                      -0.035870462734890654,
                      -0.060307209082154714,
                      -0.05979455661816374,
                      -0.03540160178580089,
                      -0.03524928801438509,
                      0.07059441522038896,
                      -0.014474084475640409,
                      -0.03178770893952345,
                      -0.014193327352904496,
                      -0.0662027665261012,
                      -0.05429694570371123,
                      -0.0070992166598984495,
                      -0.035546060145305786,
                      -0.024816846933188832,
                      -0.06074295897714161,
                      -0.06048332390407873,
                      -0.030711647034681835,
                      -0.033082805088520205,
                      -0.03927902588051055
                    ],
                    [
                      -0.0790423188965538,
                      -0.057612211607323355,
                      0.09926034613293688,
                      -0.4707206152955709,
                      -0.0051521094087675695,
                      -0.0035429875502724245,
                      -0.009836557678270758,
                      -0.020818565458606997,
                      -0.005614611567521559,
                      -0.06869720022902275,
                      -0.019543622208110727,
                      -0.5397536337098285,
                      -0.008433827736187404,
                      -0.02562953198170116,
                      -0.017729350327904073,
                      -0.008969939059215441,
                      -0.018700785563008342,
                      -0.012537791687509955,
                      -0.02934608746653955,
                      null,
                      -0.0020448764966423034,
                      -0.0707291748285913,
                      1,
                      0.47107947936119177,
                      0.4575556826967854,
                      0.45209161980853896,
                      0.161056318430776,
                      0.1629918268013958,
                      -0.6280240516800348,
                      0.2226354442975593,
                      -0.26306000240333977,
                      0.46809180569110675,
                      -0.3959710691884915,
                      -0.4739570675643258,
                      0.16745399398357236,
                      -0.13823028517615743,
                      -0.20559258693182567,
                      0.4590466051136254,
                      0.4608087973682408,
                      0.1783252543444557,
                      0.167708210218333,
                      0.5764442653244215
                    ],
                    [
                      -0.03947023790265714,
                      0.03732875283296255,
                      -0.2609273277895558,
                      0.1971779267150833,
                      -0.002792373754854404,
                      -0.0017544106808313528,
                      -0.005031062869801056,
                      0.02445668690513263,
                      -0.0028476950964348106,
                      -0.0345753470402667,
                      -0.009879733066802671,
                      -0.1997440576253435,
                      -0.00427941468298063,
                      -0.011891540503899642,
                      -0.008990487227431072,
                      -0.004552592189054959,
                      -0.009519926812804714,
                      -0.005505394617514403,
                      -0.014202802647343603,
                      null,
                      -0.001037148287512543,
                      -0.035870462734890654,
                      0.47107947936119177,
                      1,
                      -0.14826022610142725,
                      -0.1474059015645176,
                      -0.11339302553256762,
                      -0.1136613056270568,
                      0.19057355787020125,
                      -0.10849509963037465,
                      -0.07707979432103788,
                      0.15040678109052966,
                      0.20224835971999264,
                      0.18111600219335772,
                      -0.10636374146561244,
                      0.15853948314952987,
                      -0.05914131143433633,
                      -0.1458251311468861,
                      -0.1450802178615345,
                      -0.10114871480087734,
                      -0.11276696235121647,
                      0.00077071233139037
                    ],
                    [
                      -0.06987295957015226,
                      -0.07660897564948885,
                      0.2762322596574665,
                      -0.4515837393642284,
                      -0.0032283690910251727,
                      -0.0030589111050155675,
                      0.02173389820624679,
                      -0.04331631510909047,
                      -0.004929441356684321,
                      -0.05908255541250928,
                      -0.015254005709568825,
                      -0.491924995023048,
                      -0.005297422440052345,
                      -0.01822029629491132,
                      -0.007301901202676824,
                      -0.0057143735048754635,
                      -0.01207803746688055,
                      -0.011545769869404707,
                      -0.024119313932841745,
                      null,
                      -0.0017953332391095298,
                      -0.060307209082154714,
                      0.4575556826967854,
                      -0.14826022610142725,
                      1,
                      0.9932892425370462,
                      -0.22753589842137872,
                      -0.22717096815211665,
                      -0.7618875139505153,
                      0.05149399516814505,
                      -0.22402183798004285,
                      0.3955832634321881,
                      -0.557803081944994,
                      -0.6227973221644276,
                      -0.01819268142372068,
                      -0.27597462478938517,
                      -0.17285258085135813,
                      0.979373082984311,
                      0.9811389586179897,
                      -0.23181025369079494,
                      -0.22662032310988856,
                      0.6506522402268139
                    ],
                    [
                      -0.0695102829381316,
                      -0.07880544100159943,
                      0.27334627215697443,
                      -0.4469147115213066,
                      -0.003438183465552919,
                      -0.0030379473066900493,
                      0.02261400413613031,
                      -0.056549068124008235,
                      -0.004888593537248153,
                      -0.05871269191309294,
                      -0.01589888795695316,
                      -0.49016700659470086,
                      -0.005277504915784943,
                      -0.017795550433704642,
                      -0.006790081744723054,
                      -0.005675275519717405,
                      -0.01249386590527317,
                      -0.011704092136525596,
                      -0.02422784014881479,
                      null,
                      -0.0017804562089001213,
                      -0.05979455661816374,
                      0.45209161980853896,
                      -0.1474059015645176,
                      0.9932892425370462,
                      1,
                      -0.22781409406705197,
                      -0.23450699569013228,
                      -0.7567840292328145,
                      0.0449866206040984,
                      -0.22573753482691367,
                      0.39335369472851023,
                      -0.5550315677818551,
                      -0.6191298270896263,
                      -0.028692577922859275,
                      -0.2750707307651101,
                      -0.17108102440464273,
                      0.9775960119654399,
                      0.9862517164931046,
                      -0.23506545175512367,
                      -0.23314155921117952,
                      0.6482888315663325
                    ],
                    [
                      0.20068198441424187,
                      -0.046543587731822995,
                      0.14783911356068521,
                      -0.7392499841493237,
                      0.013781667466759132,
                      0.011176399358201854,
                      -0.004095980182299055,
                      -0.033051830957136,
                      -0.002896060683104945,
                      -0.03238206373185847,
                      0.022192639099095832,
                      -0.2875142957566356,
                      -0.0036820304931683596,
                      -0.008983365167760639,
                      -0.005856281244453088,
                      -0.003986728800649213,
                      -0.00703595720794909,
                      -0.006966842478790847,
                      -0.014466847322064814,
                      null,
                      -0.0010547633353637832,
                      -0.03540160178580089,
                      0.161056318430776,
                      -0.11339302553256762,
                      -0.22753589842137872,
                      -0.22781409406705197,
                      1,
                      0.9890076529820762,
                      -0.209826088581562,
                      0.2675969947258544,
                      -0.07606277051450097,
                      0.06845561112999571,
                      -0.2510753752306932,
                      -0.2576134898997666,
                      0.3760033125952063,
                      0.03267841018188912,
                      0.03408744955515988,
                      -0.22625746470324293,
                      -0.22498504395991087,
                      0.9267485035758941,
                      0.9644486655034351,
                      0.253397111026147
                    ],
                    [
                      0.1999610816706728,
                      -0.04669392617201245,
                      0.14703383351785032,
                      -0.7399567312136527,
                      0.013975377301566389,
                      0.01105162512704318,
                      -0.005275296373375304,
                      -0.033506544453256494,
                      -0.002896597275670505,
                      -0.031435866790705196,
                      0.021870147326915734,
                      -0.2835315069373967,
                      -0.003642362766073447,
                      -0.00936797176176384,
                      -0.006433835594934537,
                      -0.004001072891357721,
                      -0.0071164005089509735,
                      -0.006968133320485207,
                      -0.012396022260472409,
                      null,
                      -0.0010549587657176856,
                      -0.03524928801438509,
                      0.1629918268013958,
                      -0.1136613056270568,
                      -0.22717096815211665,
                      -0.23450699569013228,
                      0.9890076529820762,
                      1,
                      -0.20980549749117616,
                      0.27532322451176244,
                      -0.07329505782383228,
                      0.07101891075538258,
                      -0.24950012660492385,
                      -0.25556537357476694,
                      0.38009788507892805,
                      0.029801859076772182,
                      0.03097378705272291,
                      -0.22646977521683104,
                      -0.2307511153149231,
                      0.9178223356828635,
                      0.9702079974522381,
                      0.25350396214434934
                    ],
                    [
                      0.07468058598343376,
                      0.04595109806192401,
                      -0.36953550163668847,
                      0.7171271661211576,
                      0.0038986968088006845,
                      0.0037877424182033927,
                      0.008738500336686206,
                      0.054759224152193524,
                      0.005966634559277619,
                      0.06936538674481968,
                      0.019477165227638947,
                      0.6005357192353573,
                      0.008943531210242075,
                      0.02765231440874895,
                      0.018447570390625456,
                      0.009471251253449692,
                      0.019046332244005294,
                      0.011276311823817541,
                      0.03082466883474652,
                      null,
                      0.0021730854623851306,
                      0.07059441522038896,
                      -0.6280240516800348,
                      0.19057355787020125,
                      -0.7618875139505153,
                      -0.7567840292328145,
                      -0.209826088581562,
                      -0.20980549749117616,
                      1,
                      -0.37683766118267714,
                      0.2771548892042253,
                      -0.5097806071012334,
                      0.7054097939154707,
                      0.7889779634629471,
                      -0.1664881210026556,
                      0.27972265761540277,
                      0.21626274285891103,
                      -0.7606480292966593,
                      -0.7653220593832233,
                      -0.21471497162132563,
                      -0.21409057713994378,
                      -0.7519134368764228
                    ],
                    [
                      -0.013737578959260095,
                      0.014730048113819453,
                      0.20991719925152222,
                      -0.29586087616523055,
                      -0.0004320053443997703,
                      -0.0017027504091802778,
                      -0.00155118605040896,
                      -0.026638155147263656,
                      -0.0027051426914182436,
                      -0.016212464231743363,
                      -0.004437682037943637,
                      -0.2213231255307837,
                      -0.004034685755006929,
                      -0.009809624635337055,
                      -0.006595072286408839,
                      -0.004074483663488424,
                      -0.007869273748745574,
                      -0.0019028803400338678,
                      -0.01207953649066613,
                      null,
                      -0.0009852298138919497,
                      -0.014474084475640409,
                      0.2226354442975593,
                      -0.10849509963037465,
                      0.05149399516814505,
                      0.0449866206040984,
                      0.2675969947258544,
                      0.27532322451176244,
                      -0.37683766118267714,
                      1,
                      -0.10117771940751465,
                      0.19084207292852268,
                      -0.30044325424096924,
                      -0.33073467900111025,
                      0.49658969878983594,
                      -0.010664297887883117,
                      -0.0855881349850227,
                      0.05039874588299124,
                      0.04731886949030762,
                      0.22538771389981432,
                      0.27810258135108334,
                      0.20365996465884684
                    ],
                    [
                      -0.040158095326093636,
                      -0.23656953814536844,
                      -0.09017189492598866,
                      0.21311356734792938,
                      -0.0026080961517649954,
                      -0.0016743133395838701,
                      0.03810154077783172,
                      -0.026246711800449702,
                      -0.0028975882654111895,
                      -0.026780513925871437,
                      -0.010121658855964229,
                      0.13107431058413793,
                      -0.004227201550703285,
                      -0.012125723932991996,
                      -0.009152930936762102,
                      -0.004502269637001941,
                      -0.007364672140937501,
                      -0.006309377253801655,
                      0.007536362356954005,
                      null,
                      -0.0010553196903524064,
                      -0.03178770893952345,
                      -0.26306000240333977,
                      -0.07707979432103788,
                      -0.22402183798004285,
                      -0.22573753482691367,
                      -0.07606277051450097,
                      -0.07329505782383228,
                      0.2771548892042253,
                      -0.10117771940751465,
                      1,
                      -0.36004981886926163,
                      0.15304834442104073,
                      0.2914177690685568,
                      -0.11872608514620239,
                      0.24836551344086635,
                      0.3796773018438326,
                      -0.22671454679915906,
                      -0.22702663477384352,
                      -0.07679803707857535,
                      -0.08142515825623545,
                      -0.11937718243603497
                    ],
                    [
                      0.05057003428877878,
                      0.23614000096937252,
                      0.19285650336563007,
                      -0.3167521878984696,
                      -0.0057908826697756575,
                      0.002527818265981304,
                      -0.025498819535098582,
                      0.041056258721931596,
                      -0.006940618656588803,
                      -0.012249442392107776,
                      -0.025475566393806173,
                      -0.4010836755375544,
                      -0.010928059708850375,
                      -0.029884517080622803,
                      -0.013013745395590267,
                      -0.011545985325840388,
                      -0.0013439048069056856,
                      -0.009944892132067918,
                      -0.007394545782106298,
                      null,
                      0.002069005701624678,
                      -0.014193327352904496,
                      0.46809180569110675,
                      0.15040678109052966,
                      0.3955832634321881,
                      0.39335369472851023,
                      0.06845561112999571,
                      0.07101891075538258,
                      -0.5097806071012334,
                      0.19084207292852268,
                      -0.36004981886926163,
                      1,
                      -0.3032073003504786,
                      -0.5181446767802432,
                      0.1443697314483711,
                      -0.3130143735314007,
                      -0.4558710824743927,
                      0.4109221238430777,
                      0.40753162752035893,
                      0.07192359830140575,
                      0.06714294877850609,
                      0.37505209240116494
                    ],
                    [
                      -0.10977556119998436,
                      0.10391863847667178,
                      -0.40769591000718525,
                      0.5826870843863955,
                      -0.0068605026289299854,
                      -0.004223696085325192,
                      -0.01415889846646626,
                      -0.04524007300633404,
                      -0.007897259595733794,
                      -0.05186388437059426,
                      -0.023052821172941978,
                      0.6243646043689399,
                      -0.010321457205164293,
                      -0.00649114209101233,
                      -0.02103669945425832,
                      -0.011126106849987076,
                      -0.019310887277577127,
                      -0.011903168622677507,
                      0.002382856132769071,
                      null,
                      -0.0024853751418309517,
                      -0.0662027665261012,
                      -0.3959710691884915,
                      0.20224835971999264,
                      -0.557803081944994,
                      -0.5550315677818551,
                      -0.2510753752306932,
                      -0.24950012660492385,
                      0.7054097939154707,
                      -0.30044325424096924,
                      0.15304834442104073,
                      -0.3032073003504786,
                      1,
                      0.8966634699359223,
                      -0.3903143515345715,
                      -0.06862761565639179,
                      -0.004670306177043354,
                      -0.5725956929353022,
                      -0.5675935997513023,
                      -0.2503071569193142,
                      -0.25284803388728005,
                      -0.7225353705394968
                    ],
                    [
                      -0.1160049555779,
                      0.0017017170246128976,
                      -0.4526961665453075,
                      0.6301183245778188,
                      -0.00657185417146129,
                      -0.004423514782546861,
                      0.011597428318772881,
                      -0.048733381850538715,
                      -0.004489245998173225,
                      -0.03629284179619778,
                      -0.0015756178407120049,
                      0.6040583060021741,
                      -0.004994995318291278,
                      0.0076084918498169835,
                      -0.015605773764878093,
                      -0.005918364359600287,
                      -0.017324792110366635,
                      -0.006133794513650693,
                      0.0069253244724841725,
                      null,
                      -0.0028318912570599853,
                      -0.05429694570371123,
                      -0.4739570675643258,
                      0.18111600219335772,
                      -0.6227973221644276,
                      -0.6191298270896263,
                      -0.2576134898997666,
                      -0.25556537357476694,
                      0.7889779634629471,
                      -0.33073467900111025,
                      0.2914177690685568,
                      -0.5181446767802432,
                      0.8966634699359223,
                      1,
                      -0.41934136248623066,
                      0.13594629354740295,
                      0.1991865608345956,
                      -0.6392045082743875,
                      -0.6320476354066329,
                      -0.2571779585388859,
                      -0.2581469084844884,
                      -0.6938028328316116
                    ],
                    [
                      0.2541951745852436,
                      0.1313802829635008,
                      0.2840723209604493,
                      -0.2836070740133991,
                      0.0009001340104720489,
                      0.011031428224589756,
                      -0.004515606759084695,
                      0.059796526849251096,
                      0.006840358566160813,
                      -0.012293150111823721,
                      -0.0019453773890001648,
                      -0.256064556823491,
                      0.002980582755620339,
                      -0.005141438748841565,
                      0.00383371375196727,
                      0.0033424211283111806,
                      0.006183850225020234,
                      -0.0031701147636631353,
                      0.0004893386025838661,
                      null,
                      0.0074127908448193775,
                      -0.0070992166598984495,
                      0.16745399398357236,
                      -0.10636374146561244,
                      -0.01819268142372068,
                      -0.028692577922859275,
                      0.3760033125952063,
                      0.38009788507892805,
                      -0.1664881210026556,
                      0.49658969878983594,
                      -0.11872608514620239,
                      0.1443697314483711,
                      -0.3903143515345715,
                      -0.41934136248623066,
                      1,
                      0.2325671860456357,
                      0.016674301941250608,
                      -0.01773440763208364,
                      -0.026100872404324484,
                      0.4091233726107205,
                      0.3850910333164767,
                      0.2428979585348561
                    ],
                    [
                      0.2287373765622766,
                      -0.20910522659433203,
                      -0.1111629315854195,
                      0.19568944946190014,
                      0.0004313195861868898,
                      0.011747316149482186,
                      0.03385103676196789,
                      0.037176632407890334,
                      0.0027408854109334793,
                      -0.03453629138310045,
                      -0.005525675862659206,
                      -0.16099393806467713,
                      -0.0020447818460798688,
                      0.0015679585881101662,
                      -0.005982282265589456,
                      -0.0016457788840946543,
                      -0.006837156851725642,
                      0.013162262639782187,
                      -0.011846944541976948,
                      null,
                      -0.0013529516989364213,
                      -0.035546060145305786,
                      -0.13823028517615743,
                      0.15853948314952987,
                      -0.27597462478938517,
                      -0.2750707307651101,
                      0.03267841018188912,
                      0.029801859076772182,
                      0.27972265761540277,
                      -0.010664297887883117,
                      0.24836551344086635,
                      -0.3130143735314007,
                      -0.06862761565639179,
                      0.13594629354740295,
                      0.2325671860456357,
                      1,
                      0.4052168782299494,
                      -0.27891038909669197,
                      -0.276497009438003,
                      0.03809411296672094,
                      0.027767817521329025,
                      0.09244443089293548
                    ],
                    [
                      -0.026669376728930015,
                      -0.35618296174348085,
                      -0.15621058166214946,
                      0.07377278021137183,
                      -0.0016548715528629785,
                      -0.0012806096135408486,
                      0.07047419313059115,
                      -0.01625198519259923,
                      0.005176047956153823,
                      -0.024714964088818375,
                      0.003302430719316954,
                      -0.05595329902926164,
                      0.004251549261885726,
                      0.013391140248238969,
                      0.00947485595720706,
                      0.004495915235906822,
                      0.0009737845201746696,
                      -0.001978238846980411,
                      0.00004832764090413717,
                      null,
                      -0.0008145470728877854,
                      -0.024816846933188832,
                      -0.20559258693182567,
                      -0.05914131143433633,
                      -0.17285258085135813,
                      -0.17108102440464273,
                      0.03408744955515988,
                      0.03097378705272291,
                      0.21626274285891103,
                      -0.0855881349850227,
                      0.3796773018438326,
                      -0.4558710824743927,
                      -0.004670306177043354,
                      0.1991865608345956,
                      0.016674301941250608,
                      0.4052168782299494,
                      1,
                      -0.1747619085892763,
                      -0.17330113439966222,
                      0.03979160898653559,
                      0.04035160543176354,
                      0.06233233826786508
                    ],
                    [
                      -0.06494796244229974,
                      -0.07939797157469959,
                      0.28163461140878665,
                      -0.4434405441385708,
                      -0.00450274189046821,
                      -0.0030235657657113942,
                      0.019840027038666268,
                      -0.05191664250134102,
                      -0.004748635010127785,
                      -0.05822247853498551,
                      -0.011648294324641307,
                      -0.49147810664592145,
                      -0.004377371060365315,
                      -0.017408452083235774,
                      -0.005730752750914183,
                      -0.0048033325856438325,
                      0.003405263443942446,
                      -0.010895842121529725,
                      -0.017951272059329938,
                      null,
                      0.0018721595259642764,
                      -0.06074295897714161,
                      0.4590466051136254,
                      -0.1458251311468861,
                      0.979373082984311,
                      0.9775960119654399,
                      -0.22625746470324293,
                      -0.22646977521683104,
                      -0.7606480292966593,
                      0.05039874588299124,
                      -0.22671454679915906,
                      0.4109221238430777,
                      -0.5725956929353022,
                      -0.6392045082743875,
                      -0.01773440763208364,
                      -0.27891038909669197,
                      -0.1747619085892763,
                      1,
                      0.9850522227996314,
                      -0.235534832766927,
                      -0.22791382694502638,
                      0.6518416167164351
                    ],
                    [
                      -0.06436051447487312,
                      -0.07792523587308232,
                      0.2775942198241544,
                      -0.44322472168965643,
                      -0.0033970208665768695,
                      -0.002943924463584744,
                      0.012275756097814465,
                      -0.055917452094164016,
                      -0.004833991151321223,
                      -0.058214433297080904,
                      -0.0122988093756839,
                      -0.4932639954458706,
                      -0.0048977925820792205,
                      -0.015744360091209397,
                      -0.004161396704265254,
                      -0.005281509249608026,
                      -0.00024702006583729544,
                      -0.009115308386369751,
                      -0.019736902509074988,
                      null,
                      -0.000685835438595904,
                      -0.06048332390407873,
                      0.4608087973682408,
                      -0.1450802178615345,
                      0.9811389586179897,
                      0.9862517164931046,
                      -0.22498504395991087,
                      -0.2307511153149231,
                      -0.7653220593832233,
                      0.04731886949030762,
                      -0.22702663477384352,
                      0.40753162752035893,
                      -0.5675935997513023,
                      -0.6320476354066329,
                      -0.026100872404324484,
                      -0.276497009438003,
                      -0.17330113439966222,
                      0.9850522227996314,
                      1,
                      -0.23450812756382738,
                      -0.2329170467613239,
                      0.6549854452230888
                    ],
                    [
                      0.1738152898998139,
                      -0.015434298609394173,
                      0.15066648078571526,
                      -0.6833097055667018,
                      -0.001468269635838308,
                      0.011729272441183755,
                      -0.005222327945813241,
                      0.028890447180472796,
                      -0.002998735643827585,
                      -0.0305548446203161,
                      0.018660188941808587,
                      -0.27597209668825334,
                      -0.0036466777033217603,
                      -0.009106777779188988,
                      -0.004873170191808963,
                      -0.0038268891177502583,
                      -0.005235085637668479,
                      -0.004552102221880253,
                      -0.013226914031388825,
                      null,
                      -0.0010921581954445717,
                      -0.030711647034681835,
                      0.1783252543444557,
                      -0.10114871480087734,
                      -0.23181025369079494,
                      -0.23506545175512367,
                      0.9267485035758941,
                      0.9178223356828635,
                      -0.21471497162132563,
                      0.22538771389981432,
                      -0.07679803707857535,
                      0.07192359830140575,
                      -0.2503071569193142,
                      -0.2571779585388859,
                      0.4091233726107205,
                      0.03809411296672094,
                      0.03979160898653559,
                      -0.235534832766927,
                      -0.23450812756382738,
                      1,
                      0.9246878915781156,
                      0.25256272475082076
                    ],
                    [
                      0.19902360421159196,
                      -0.04693777945442671,
                      0.14840516399983447,
                      -0.7187779083961026,
                      0.012449289597552407,
                      0.011223330790380369,
                      -0.00530284595940963,
                      -0.03368152825772798,
                      -0.002911724398433842,
                      -0.031669834430818236,
                      0.017359014831386854,
                      -0.2728057413687,
                      -0.0032188634822749246,
                      -0.009742351344006911,
                      -0.005240828137026714,
                      -0.003496964182017756,
                      -0.004175763671835976,
                      -0.006780467491243171,
                      -0.012854407511593245,
                      null,
                      -0.0005312919581340987,
                      -0.033082805088520205,
                      0.167708210218333,
                      -0.11276696235121647,
                      -0.22662032310988856,
                      -0.23314155921117952,
                      0.9644486655034351,
                      0.9702079974522381,
                      -0.21409057713994378,
                      0.27810258135108334,
                      -0.08142515825623545,
                      0.06714294877850609,
                      -0.25284803388728005,
                      -0.2581469084844884,
                      0.3850910333164767,
                      0.027767817521329025,
                      0.04035160543176354,
                      -0.22791382694502638,
                      -0.2329170467613239,
                      0.9246878915781156,
                      1,
                      0.25343015038466377
                    ],
                    [
                      0.048785327423118766,
                      -0.28135478776677386,
                      0.27654838132260356,
                      -0.6470730069806998,
                      0.0059213227561141345,
                      0.004117535029285793,
                      0.007190758994807418,
                      0.09590548069944738,
                      -0.002787032403358984,
                      -0.013083414309389876,
                      -0.003755073924083278,
                      -0.6901707395800081,
                      -0.010198327575651513,
                      -0.02028540195274874,
                      -0.022448496646234894,
                      -0.011452491337109728,
                      -0.021270729449097338,
                      -0.009471997356955454,
                      -0.03670050588662517,
                      null,
                      -0.002628915972776081,
                      -0.03927902588051055,
                      0.5764442653244215,
                      0.00077071233139037,
                      0.6506522402268139,
                      0.6482888315663325,
                      0.253397111026147,
                      0.25350396214434934,
                      -0.7519134368764228,
                      0.20365996465884684,
                      -0.11937718243603497,
                      0.37505209240116494,
                      -0.7225353705394968,
                      -0.6938028328316116,
                      0.2428979585348561,
                      0.09244443089293548,
                      0.06233233826786508,
                      0.6518416167164351,
                      0.6549854452230888,
                      0.25256272475082076,
                      0.25343015038466377,
                      1
                    ]
                  ]
                }
              ],
              "layout": {
                "coloraxis": {
                  "colorscale": [
                    [
                      0,
                      "#0d0887"
                    ],
                    [
                      0.1111111111111111,
                      "#46039f"
                    ],
                    [
                      0.2222222222222222,
                      "#7201a8"
                    ],
                    [
                      0.3333333333333333,
                      "#9c179e"
                    ],
                    [
                      0.4444444444444444,
                      "#bd3786"
                    ],
                    [
                      0.5555555555555556,
                      "#d8576b"
                    ],
                    [
                      0.6666666666666666,
                      "#ed7953"
                    ],
                    [
                      0.7777777777777778,
                      "#fb9f3a"
                    ],
                    [
                      0.8888888888888888,
                      "#fdca26"
                    ],
                    [
                      1,
                      "#f0f921"
                    ]
                  ]
                },
                "margin": {
                  "t": 60
                },
                "template": {
                  "data": {
                    "bar": [
                      {
                        "error_x": {
                          "color": "#2a3f5f"
                        },
                        "error_y": {
                          "color": "#2a3f5f"
                        },
                        "marker": {
                          "line": {
                            "color": "#E5ECF6",
                            "width": 0.5
                          },
                          "pattern": {
                            "fillmode": "overlay",
                            "size": 10,
                            "solidity": 0.2
                          }
                        },
                        "type": "bar"
                      }
                    ],
                    "barpolar": [
                      {
                        "marker": {
                          "line": {
                            "color": "#E5ECF6",
                            "width": 0.5
                          },
                          "pattern": {
                            "fillmode": "overlay",
                            "size": 10,
                            "solidity": 0.2
                          }
                        },
                        "type": "barpolar"
                      }
                    ],
                    "carpet": [
                      {
                        "aaxis": {
                          "endlinecolor": "#2a3f5f",
                          "gridcolor": "white",
                          "linecolor": "white",
                          "minorgridcolor": "white",
                          "startlinecolor": "#2a3f5f"
                        },
                        "baxis": {
                          "endlinecolor": "#2a3f5f",
                          "gridcolor": "white",
                          "linecolor": "white",
                          "minorgridcolor": "white",
                          "startlinecolor": "#2a3f5f"
                        },
                        "type": "carpet"
                      }
                    ],
                    "choropleth": [
                      {
                        "colorbar": {
                          "outlinewidth": 0,
                          "ticks": ""
                        },
                        "type": "choropleth"
                      }
                    ],
                    "contour": [
                      {
                        "colorbar": {
                          "outlinewidth": 0,
                          "ticks": ""
                        },
                        "colorscale": [
                          [
                            0,
                            "#0d0887"
                          ],
                          [
                            0.1111111111111111,
                            "#46039f"
                          ],
                          [
                            0.2222222222222222,
                            "#7201a8"
                          ],
                          [
                            0.3333333333333333,
                            "#9c179e"
                          ],
                          [
                            0.4444444444444444,
                            "#bd3786"
                          ],
                          [
                            0.5555555555555556,
                            "#d8576b"
                          ],
                          [
                            0.6666666666666666,
                            "#ed7953"
                          ],
                          [
                            0.7777777777777778,
                            "#fb9f3a"
                          ],
                          [
                            0.8888888888888888,
                            "#fdca26"
                          ],
                          [
                            1,
                            "#f0f921"
                          ]
                        ],
                        "type": "contour"
                      }
                    ],
                    "contourcarpet": [
                      {
                        "colorbar": {
                          "outlinewidth": 0,
                          "ticks": ""
                        },
                        "type": "contourcarpet"
                      }
                    ],
                    "heatmap": [
                      {
                        "colorbar": {
                          "outlinewidth": 0,
                          "ticks": ""
                        },
                        "colorscale": [
                          [
                            0,
                            "#0d0887"
                          ],
                          [
                            0.1111111111111111,
                            "#46039f"
                          ],
                          [
                            0.2222222222222222,
                            "#7201a8"
                          ],
                          [
                            0.3333333333333333,
                            "#9c179e"
                          ],
                          [
                            0.4444444444444444,
                            "#bd3786"
                          ],
                          [
                            0.5555555555555556,
                            "#d8576b"
                          ],
                          [
                            0.6666666666666666,
                            "#ed7953"
                          ],
                          [
                            0.7777777777777778,
                            "#fb9f3a"
                          ],
                          [
                            0.8888888888888888,
                            "#fdca26"
                          ],
                          [
                            1,
                            "#f0f921"
                          ]
                        ],
                        "type": "heatmap"
                      }
                    ],
                    "heatmapgl": [
                      {
                        "colorbar": {
                          "outlinewidth": 0,
                          "ticks": ""
                        },
                        "colorscale": [
                          [
                            0,
                            "#0d0887"
                          ],
                          [
                            0.1111111111111111,
                            "#46039f"
                          ],
                          [
                            0.2222222222222222,
                            "#7201a8"
                          ],
                          [
                            0.3333333333333333,
                            "#9c179e"
                          ],
                          [
                            0.4444444444444444,
                            "#bd3786"
                          ],
                          [
                            0.5555555555555556,
                            "#d8576b"
                          ],
                          [
                            0.6666666666666666,
                            "#ed7953"
                          ],
                          [
                            0.7777777777777778,
                            "#fb9f3a"
                          ],
                          [
                            0.8888888888888888,
                            "#fdca26"
                          ],
                          [
                            1,
                            "#f0f921"
                          ]
                        ],
                        "type": "heatmapgl"
                      }
                    ],
                    "histogram": [
                      {
                        "marker": {
                          "pattern": {
                            "fillmode": "overlay",
                            "size": 10,
                            "solidity": 0.2
                          }
                        },
                        "type": "histogram"
                      }
                    ],
                    "histogram2d": [
                      {
                        "colorbar": {
                          "outlinewidth": 0,
                          "ticks": ""
                        },
                        "colorscale": [
                          [
                            0,
                            "#0d0887"
                          ],
                          [
                            0.1111111111111111,
                            "#46039f"
                          ],
                          [
                            0.2222222222222222,
                            "#7201a8"
                          ],
                          [
                            0.3333333333333333,
                            "#9c179e"
                          ],
                          [
                            0.4444444444444444,
                            "#bd3786"
                          ],
                          [
                            0.5555555555555556,
                            "#d8576b"
                          ],
                          [
                            0.6666666666666666,
                            "#ed7953"
                          ],
                          [
                            0.7777777777777778,
                            "#fb9f3a"
                          ],
                          [
                            0.8888888888888888,
                            "#fdca26"
                          ],
                          [
                            1,
                            "#f0f921"
                          ]
                        ],
                        "type": "histogram2d"
                      }
                    ],
                    "histogram2dcontour": [
                      {
                        "colorbar": {
                          "outlinewidth": 0,
                          "ticks": ""
                        },
                        "colorscale": [
                          [
                            0,
                            "#0d0887"
                          ],
                          [
                            0.1111111111111111,
                            "#46039f"
                          ],
                          [
                            0.2222222222222222,
                            "#7201a8"
                          ],
                          [
                            0.3333333333333333,
                            "#9c179e"
                          ],
                          [
                            0.4444444444444444,
                            "#bd3786"
                          ],
                          [
                            0.5555555555555556,
                            "#d8576b"
                          ],
                          [
                            0.6666666666666666,
                            "#ed7953"
                          ],
                          [
                            0.7777777777777778,
                            "#fb9f3a"
                          ],
                          [
                            0.8888888888888888,
                            "#fdca26"
                          ],
                          [
                            1,
                            "#f0f921"
                          ]
                        ],
                        "type": "histogram2dcontour"
                      }
                    ],
                    "mesh3d": [
                      {
                        "colorbar": {
                          "outlinewidth": 0,
                          "ticks": ""
                        },
                        "type": "mesh3d"
                      }
                    ],
                    "parcoords": [
                      {
                        "line": {
                          "colorbar": {
                            "outlinewidth": 0,
                            "ticks": ""
                          }
                        },
                        "type": "parcoords"
                      }
                    ],
                    "pie": [
                      {
                        "automargin": true,
                        "type": "pie"
                      }
                    ],
                    "scatter": [
                      {
                        "fillpattern": {
                          "fillmode": "overlay",
                          "size": 10,
                          "solidity": 0.2
                        },
                        "type": "scatter"
                      }
                    ],
                    "scatter3d": [
                      {
                        "line": {
                          "colorbar": {
                            "outlinewidth": 0,
                            "ticks": ""
                          }
                        },
                        "marker": {
                          "colorbar": {
                            "outlinewidth": 0,
                            "ticks": ""
                          }
                        },
                        "type": "scatter3d"
                      }
                    ],
                    "scattercarpet": [
                      {
                        "marker": {
                          "colorbar": {
                            "outlinewidth": 0,
                            "ticks": ""
                          }
                        },
                        "type": "scattercarpet"
                      }
                    ],
                    "scattergeo": [
                      {
                        "marker": {
                          "colorbar": {
                            "outlinewidth": 0,
                            "ticks": ""
                          }
                        },
                        "type": "scattergeo"
                      }
                    ],
                    "scattergl": [
                      {
                        "marker": {
                          "colorbar": {
                            "outlinewidth": 0,
                            "ticks": ""
                          }
                        },
                        "type": "scattergl"
                      }
                    ],
                    "scattermapbox": [
                      {
                        "marker": {
                          "colorbar": {
                            "outlinewidth": 0,
                            "ticks": ""
                          }
                        },
                        "type": "scattermapbox"
                      }
                    ],
                    "scatterpolar": [
                      {
                        "marker": {
                          "colorbar": {
                            "outlinewidth": 0,
                            "ticks": ""
                          }
                        },
                        "type": "scatterpolar"
                      }
                    ],
                    "scatterpolargl": [
                      {
                        "marker": {
                          "colorbar": {
                            "outlinewidth": 0,
                            "ticks": ""
                          }
                        },
                        "type": "scatterpolargl"
                      }
                    ],
                    "scatterternary": [
                      {
                        "marker": {
                          "colorbar": {
                            "outlinewidth": 0,
                            "ticks": ""
                          }
                        },
                        "type": "scatterternary"
                      }
                    ],
                    "surface": [
                      {
                        "colorbar": {
                          "outlinewidth": 0,
                          "ticks": ""
                        },
                        "colorscale": [
                          [
                            0,
                            "#0d0887"
                          ],
                          [
                            0.1111111111111111,
                            "#46039f"
                          ],
                          [
                            0.2222222222222222,
                            "#7201a8"
                          ],
                          [
                            0.3333333333333333,
                            "#9c179e"
                          ],
                          [
                            0.4444444444444444,
                            "#bd3786"
                          ],
                          [
                            0.5555555555555556,
                            "#d8576b"
                          ],
                          [
                            0.6666666666666666,
                            "#ed7953"
                          ],
                          [
                            0.7777777777777778,
                            "#fb9f3a"
                          ],
                          [
                            0.8888888888888888,
                            "#fdca26"
                          ],
                          [
                            1,
                            "#f0f921"
                          ]
                        ],
                        "type": "surface"
                      }
                    ],
                    "table": [
                      {
                        "cells": {
                          "fill": {
                            "color": "#EBF0F8"
                          },
                          "line": {
                            "color": "white"
                          }
                        },
                        "header": {
                          "fill": {
                            "color": "#C8D4E3"
                          },
                          "line": {
                            "color": "white"
                          }
                        },
                        "type": "table"
                      }
                    ]
                  },
                  "layout": {
                    "annotationdefaults": {
                      "arrowcolor": "#2a3f5f",
                      "arrowhead": 0,
                      "arrowwidth": 1
                    },
                    "autotypenumbers": "strict",
                    "coloraxis": {
                      "colorbar": {
                        "outlinewidth": 0,
                        "ticks": ""
                      }
                    },
                    "colorscale": {
                      "diverging": [
                        [
                          0,
                          "#8e0152"
                        ],
                        [
                          0.1,
                          "#c51b7d"
                        ],
                        [
                          0.2,
                          "#de77ae"
                        ],
                        [
                          0.3,
                          "#f1b6da"
                        ],
                        [
                          0.4,
                          "#fde0ef"
                        ],
                        [
                          0.5,
                          "#f7f7f7"
                        ],
                        [
                          0.6,
                          "#e6f5d0"
                        ],
                        [
                          0.7,
                          "#b8e186"
                        ],
                        [
                          0.8,
                          "#7fbc41"
                        ],
                        [
                          0.9,
                          "#4d9221"
                        ],
                        [
                          1,
                          "#276419"
                        ]
                      ],
                      "sequential": [
                        [
                          0,
                          "#0d0887"
                        ],
                        [
                          0.1111111111111111,
                          "#46039f"
                        ],
                        [
                          0.2222222222222222,
                          "#7201a8"
                        ],
                        [
                          0.3333333333333333,
                          "#9c179e"
                        ],
                        [
                          0.4444444444444444,
                          "#bd3786"
                        ],
                        [
                          0.5555555555555556,
                          "#d8576b"
                        ],
                        [
                          0.6666666666666666,
                          "#ed7953"
                        ],
                        [
                          0.7777777777777778,
                          "#fb9f3a"
                        ],
                        [
                          0.8888888888888888,
                          "#fdca26"
                        ],
                        [
                          1,
                          "#f0f921"
                        ]
                      ],
                      "sequentialminus": [
                        [
                          0,
                          "#0d0887"
                        ],
                        [
                          0.1111111111111111,
                          "#46039f"
                        ],
                        [
                          0.2222222222222222,
                          "#7201a8"
                        ],
                        [
                          0.3333333333333333,
                          "#9c179e"
                        ],
                        [
                          0.4444444444444444,
                          "#bd3786"
                        ],
                        [
                          0.5555555555555556,
                          "#d8576b"
                        ],
                        [
                          0.6666666666666666,
                          "#ed7953"
                        ],
                        [
                          0.7777777777777778,
                          "#fb9f3a"
                        ],
                        [
                          0.8888888888888888,
                          "#fdca26"
                        ],
                        [
                          1,
                          "#f0f921"
                        ]
                      ]
                    },
                    "colorway": [
                      "#636efa",
                      "#EF553B",
                      "#00cc96",
                      "#ab63fa",
                      "#FFA15A",
                      "#19d3f3",
                      "#FF6692",
                      "#B6E880",
                      "#FF97FF",
                      "#FECB52"
                    ],
                    "font": {
                      "color": "#2a3f5f"
                    },
                    "geo": {
                      "bgcolor": "white",
                      "lakecolor": "white",
                      "landcolor": "#E5ECF6",
                      "showlakes": true,
                      "showland": true,
                      "subunitcolor": "white"
                    },
                    "hoverlabel": {
                      "align": "left"
                    },
                    "hovermode": "closest",
                    "mapbox": {
                      "style": "light"
                    },
                    "paper_bgcolor": "white",
                    "plot_bgcolor": "#E5ECF6",
                    "polar": {
                      "angularaxis": {
                        "gridcolor": "white",
                        "linecolor": "white",
                        "ticks": ""
                      },
                      "bgcolor": "#E5ECF6",
                      "radialaxis": {
                        "gridcolor": "white",
                        "linecolor": "white",
                        "ticks": ""
                      }
                    },
                    "scene": {
                      "xaxis": {
                        "backgroundcolor": "#E5ECF6",
                        "gridcolor": "white",
                        "gridwidth": 2,
                        "linecolor": "white",
                        "showbackground": true,
                        "ticks": "",
                        "zerolinecolor": "white"
                      },
                      "yaxis": {
                        "backgroundcolor": "#E5ECF6",
                        "gridcolor": "white",
                        "gridwidth": 2,
                        "linecolor": "white",
                        "showbackground": true,
                        "ticks": "",
                        "zerolinecolor": "white"
                      },
                      "zaxis": {
                        "backgroundcolor": "#E5ECF6",
                        "gridcolor": "white",
                        "gridwidth": 2,
                        "linecolor": "white",
                        "showbackground": true,
                        "ticks": "",
                        "zerolinecolor": "white"
                      }
                    },
                    "shapedefaults": {
                      "line": {
                        "color": "#2a3f5f"
                      }
                    },
                    "ternary": {
                      "aaxis": {
                        "gridcolor": "white",
                        "linecolor": "white",
                        "ticks": ""
                      },
                      "baxis": {
                        "gridcolor": "white",
                        "linecolor": "white",
                        "ticks": ""
                      },
                      "bgcolor": "#E5ECF6",
                      "caxis": {
                        "gridcolor": "white",
                        "linecolor": "white",
                        "ticks": ""
                      }
                    },
                    "title": {
                      "x": 0.05
                    },
                    "xaxis": {
                      "automargin": true,
                      "gridcolor": "white",
                      "linecolor": "white",
                      "ticks": "",
                      "title": {
                        "standoff": 15
                      },
                      "zerolinecolor": "white",
                      "zerolinewidth": 2
                    },
                    "yaxis": {
                      "automargin": true,
                      "gridcolor": "white",
                      "linecolor": "white",
                      "ticks": "",
                      "title": {
                        "standoff": 15
                      },
                      "zerolinecolor": "white",
                      "zerolinewidth": 2
                    }
                  }
                },
                "xaxis": {
                  "anchor": "y",
                  "constrain": "domain",
                  "domain": [
                    0,
                    1
                  ],
                  "scaleanchor": "y"
                },
                "yaxis": {
                  "anchor": "x",
                  "autorange": "reversed",
                  "constrain": "domain",
                  "domain": [
                    0,
                    1
                  ]
                }
              }
            }
          },
          "metadata": {},
          "output_type": "display_data"
        }
      ],
      "source": [
        "fig = px.imshow(df.corr(),text_auto=True)\n",
        "fig.show()"
      ]
    },
    {
      "cell_type": "markdown",
      "metadata": {
        "id": "zHmBGJVXtF8v"
      },
      "source": [
        "**Showing top 15 correlated values**"
      ]
    },
    {
      "cell_type": "code",
      "execution_count": 45,
      "metadata": {
        "colab": {
          "base_uri": "https://localhost:8080/"
        },
        "id": "rsKQOY32qf9r",
        "outputId": "e6f7919c-2244-48a1-8557-a06eec9e4507"
      },
      "outputs": [
        {
          "data": {
            "text/plain": [
              "dst_host_srv_rerror_rate    0.253430\n",
              "srv_rerror_rate             0.253504\n",
              "service                     0.276548\n",
              "protocol_type               0.281355\n",
              "dst_host_count              0.375052\n",
              "count                       0.576444\n",
              "flag                        0.647073\n",
              "srv_serror_rate             0.648289\n",
              "serror_rate                 0.650652\n",
              "dst_host_serror_rate        0.651842\n",
              "dst_host_srv_serror_rate    0.654985\n",
              "logged_in                   0.690171\n",
              "dst_host_same_srv_rate      0.693803\n",
              "dst_host_srv_count          0.722535\n",
              "same_srv_rate               0.751913\n",
              "attack                      1.000000\n",
              "Name: attack, dtype: float64"
            ]
          },
          "execution_count": 45,
          "metadata": {},
          "output_type": "execute_result"
        }
      ],
      "source": [
        "top_15_label = abs(df.corr()['attack']).sort_values()[-17:-1]\n",
        "top_15_label"
      ]
    },
    {
      "cell_type": "markdown",
      "metadata": {
        "id": "ytRxmRK6v6Ig"
      },
      "source": [
        "**Training model with this 15 highly coorelated values**"
      ]
    },
    {
      "cell_type": "code",
      "execution_count": 46,
      "metadata": {
        "id": "QkBwmgBOrWdx"
      },
      "outputs": [],
      "source": [
        "columns = top_15_label.index"
      ]
    },
    {
      "cell_type": "markdown",
      "metadata": {
        "id": "6Ym7CoM8wWQk"
      },
      "source": [
        "**Using stratified cross validation for model training to avoid chances of overfitting**"
      ]
    },
    {
      "cell_type": "code",
      "execution_count": 47,
      "metadata": {
        "id": "UwMnx03cv_WM"
      },
      "outputs": [],
      "source": [
        "class config:\n",
        "    NUM_FOLDS = 5\n",
        "    SEED = 541\n",
        "    TARGET = 'attack'\n",
        "    JUNK = -1\n",
        "\n",
        "def create_folds(data):    \n",
        "    data[\"kfold\"] = -1\n",
        "\n",
        "    kf = model_selection.StratifiedKFold(n_splits=config.NUM_FOLDS, shuffle=True, random_state=config.SEED)\n",
        "    for f, (t_, v_) in enumerate(kf.split(X=data, y=data[config.TARGET].values)):\n",
        "        data.loc[v_, 'kfold'] = f    \n",
        "    \n",
        "    return data"
      ]
    },
    {
      "cell_type": "code",
      "execution_count": 20,
      "metadata": {
        "id": "XZbdLOhuum9u"
      },
      "outputs": [],
      "source": [
        "def retrieve_data(train_folds,fold):\n",
        "\n",
        "\n",
        "  train_data = train_folds[train_folds['kfold'] != fold].reset_index(drop=True)\n",
        "  valid_data = train_folds[train_folds['kfold'] == fold].reset_index(drop=True)\n",
        "\n",
        "  x_train = train_data.drop(['kfold', config.TARGET], axis=1)\n",
        "  cols = x_train.columns\n",
        "  x_train = x_train.values\n",
        "  y_train = train_data[config.TARGET].values\n",
        "      \n",
        "  x_valid = valid_data.drop(['kfold', config.TARGET], axis=1).values\n",
        "  y_valid = valid_data[config.TARGET].values\n",
        "\n",
        "\n",
        "  return x_train,x_valid,y_train,y_valid"
      ]
    },
    {
      "cell_type": "code",
      "execution_count": 48,
      "metadata": {
        "colab": {
          "base_uri": "https://localhost:8080/",
          "height": 548
        },
        "id": "NcVUzPlEuu-T",
        "outputId": "a6004562-5556-4495-c44f-185642ced9e2"
      },
      "outputs": [
        {
          "data": {
            "text/html": [
              "<div>\n",
              "<style scoped>\n",
              "    .dataframe tbody tr th:only-of-type {\n",
              "        vertical-align: middle;\n",
              "    }\n",
              "\n",
              "    .dataframe tbody tr th {\n",
              "        vertical-align: top;\n",
              "    }\n",
              "\n",
              "    .dataframe thead th {\n",
              "        text-align: right;\n",
              "    }\n",
              "</style>\n",
              "<table border=\"1\" class=\"dataframe\">\n",
              "  <thead>\n",
              "    <tr style=\"text-align: right;\">\n",
              "      <th></th>\n",
              "      <th>dst_host_srv_rerror_rate</th>\n",
              "      <th>srv_rerror_rate</th>\n",
              "      <th>service</th>\n",
              "      <th>protocol_type</th>\n",
              "      <th>dst_host_count</th>\n",
              "      <th>count</th>\n",
              "      <th>flag</th>\n",
              "      <th>srv_serror_rate</th>\n",
              "      <th>serror_rate</th>\n",
              "      <th>dst_host_serror_rate</th>\n",
              "      <th>dst_host_srv_serror_rate</th>\n",
              "      <th>logged_in</th>\n",
              "      <th>dst_host_same_srv_rate</th>\n",
              "      <th>dst_host_srv_count</th>\n",
              "      <th>same_srv_rate</th>\n",
              "      <th>attack</th>\n",
              "    </tr>\n",
              "  </thead>\n",
              "  <tbody>\n",
              "    <tr>\n",
              "      <th>0</th>\n",
              "      <td>0.00</td>\n",
              "      <td>0.0</td>\n",
              "      <td>20</td>\n",
              "      <td>1</td>\n",
              "      <td>150</td>\n",
              "      <td>2</td>\n",
              "      <td>9</td>\n",
              "      <td>0.0</td>\n",
              "      <td>0.0</td>\n",
              "      <td>0.00</td>\n",
              "      <td>0.00</td>\n",
              "      <td>0</td>\n",
              "      <td>0.17</td>\n",
              "      <td>25</td>\n",
              "      <td>1.00</td>\n",
              "      <td>0</td>\n",
              "    </tr>\n",
              "    <tr>\n",
              "      <th>1</th>\n",
              "      <td>0.00</td>\n",
              "      <td>0.0</td>\n",
              "      <td>44</td>\n",
              "      <td>2</td>\n",
              "      <td>255</td>\n",
              "      <td>13</td>\n",
              "      <td>9</td>\n",
              "      <td>0.0</td>\n",
              "      <td>0.0</td>\n",
              "      <td>0.00</td>\n",
              "      <td>0.00</td>\n",
              "      <td>0</td>\n",
              "      <td>0.00</td>\n",
              "      <td>1</td>\n",
              "      <td>0.08</td>\n",
              "      <td>0</td>\n",
              "    </tr>\n",
              "    <tr>\n",
              "      <th>2</th>\n",
              "      <td>0.00</td>\n",
              "      <td>0.0</td>\n",
              "      <td>49</td>\n",
              "      <td>1</td>\n",
              "      <td>255</td>\n",
              "      <td>123</td>\n",
              "      <td>5</td>\n",
              "      <td>1.0</td>\n",
              "      <td>1.0</td>\n",
              "      <td>1.00</td>\n",
              "      <td>1.00</td>\n",
              "      <td>0</td>\n",
              "      <td>0.10</td>\n",
              "      <td>26</td>\n",
              "      <td>0.05</td>\n",
              "      <td>1</td>\n",
              "    </tr>\n",
              "    <tr>\n",
              "      <th>3</th>\n",
              "      <td>0.01</td>\n",
              "      <td>0.0</td>\n",
              "      <td>24</td>\n",
              "      <td>1</td>\n",
              "      <td>30</td>\n",
              "      <td>5</td>\n",
              "      <td>9</td>\n",
              "      <td>0.2</td>\n",
              "      <td>0.2</td>\n",
              "      <td>0.03</td>\n",
              "      <td>0.01</td>\n",
              "      <td>1</td>\n",
              "      <td>1.00</td>\n",
              "      <td>255</td>\n",
              "      <td>1.00</td>\n",
              "      <td>0</td>\n",
              "    </tr>\n",
              "    <tr>\n",
              "      <th>4</th>\n",
              "      <td>0.00</td>\n",
              "      <td>0.0</td>\n",
              "      <td>24</td>\n",
              "      <td>1</td>\n",
              "      <td>255</td>\n",
              "      <td>30</td>\n",
              "      <td>9</td>\n",
              "      <td>0.0</td>\n",
              "      <td>0.0</td>\n",
              "      <td>0.00</td>\n",
              "      <td>0.00</td>\n",
              "      <td>1</td>\n",
              "      <td>1.00</td>\n",
              "      <td>255</td>\n",
              "      <td>1.00</td>\n",
              "      <td>0</td>\n",
              "    </tr>\n",
              "  </tbody>\n",
              "</table>\n",
              "</div>"
            ],
            "text/plain": [
              "   dst_host_srv_rerror_rate  srv_rerror_rate  service  protocol_type  \\\n",
              "0                      0.00              0.0       20              1   \n",
              "1                      0.00              0.0       44              2   \n",
              "2                      0.00              0.0       49              1   \n",
              "3                      0.01              0.0       24              1   \n",
              "4                      0.00              0.0       24              1   \n",
              "\n",
              "   dst_host_count  count  flag  srv_serror_rate  serror_rate  \\\n",
              "0             150      2     9              0.0          0.0   \n",
              "1             255     13     9              0.0          0.0   \n",
              "2             255    123     5              1.0          1.0   \n",
              "3              30      5     9              0.2          0.2   \n",
              "4             255     30     9              0.0          0.0   \n",
              "\n",
              "   dst_host_serror_rate  dst_host_srv_serror_rate  logged_in  \\\n",
              "0                  0.00                      0.00          0   \n",
              "1                  0.00                      0.00          0   \n",
              "2                  1.00                      1.00          0   \n",
              "3                  0.03                      0.01          1   \n",
              "4                  0.00                      0.00          1   \n",
              "\n",
              "   dst_host_same_srv_rate  dst_host_srv_count  same_srv_rate  attack  \n",
              "0                    0.17                  25           1.00       0  \n",
              "1                    0.00                   1           0.08       0  \n",
              "2                    0.10                  26           0.05       1  \n",
              "3                    1.00                 255           1.00       0  \n",
              "4                    1.00                 255           1.00       0  "
            ]
          },
          "metadata": {},
          "output_type": "display_data"
        },
        {
          "name": "stderr",
          "output_type": "stream",
          "text": [
            "C:\\Users\\yerpu\\AppData\\Local\\Temp\\ipykernel_1332\\2454635029.py:8: SettingWithCopyWarning:\n",
            "\n",
            "\n",
            "A value is trying to be set on a copy of a slice from a DataFrame.\n",
            "Try using .loc[row_indexer,col_indexer] = value instead\n",
            "\n",
            "See the caveats in the documentation: https://pandas.pydata.org/pandas-docs/stable/user_guide/indexing.html#returning-a-view-versus-a-copy\n",
            "\n"
          ]
        }
      ],
      "source": [
        "train1 = df[columns]\n",
        "display(train1.head())\n",
        "train_folds = create_folds(train1)"
      ]
    },
    {
      "cell_type": "code",
      "execution_count": 49,
      "metadata": {
        "id": "NZA63-1e5Vgy"
      },
      "outputs": [],
      "source": [
        "from sklearn.preprocessing import StandardScaler\n",
        "scalar=StandardScaler()"
      ]
    },
    {
      "cell_type": "markdown",
      "metadata": {
        "id": "3GQy9xEou26n"
      },
      "source": [
        "**Logistic Regression**"
      ]
    },
    {
      "cell_type": "code",
      "execution_count": 50,
      "metadata": {
        "colab": {
          "base_uri": "https://localhost:8080/"
        },
        "id": "8ifMEYuPu2F0",
        "outputId": "eb55d4e2-144f-4268-ee9e-3a35039bf0a9"
      },
      "outputs": [
        {
          "name": "stdout",
          "output_type": "stream",
          "text": [
            "Training accuracy :  0.9373772053424358\n",
            "Testing accuracy :  0.9357809089104981\n",
            "              precision    recall  f1-score   support\n",
            "\n",
            "           0       0.92      0.96      0.94     13469\n",
            "           1       0.95      0.91      0.93     11726\n",
            "\n",
            "    accuracy                           0.94     25195\n",
            "   macro avg       0.94      0.93      0.94     25195\n",
            "weighted avg       0.94      0.94      0.94     25195\n",
            "\n",
            "[[12921   548]\n",
            " [ 1070 10656]]\n",
            "\n",
            "\n",
            "-----------------------------------------------------------------------\n",
            "\n",
            "Training accuracy :  0.9366329952965925\n",
            "Testing accuracy :  0.9360190513990871\n",
            "              precision    recall  f1-score   support\n",
            "\n",
            "           0       0.92      0.96      0.94     13469\n",
            "           1       0.95      0.91      0.93     11726\n",
            "\n",
            "    accuracy                           0.94     25195\n",
            "   macro avg       0.94      0.93      0.94     25195\n",
            "weighted avg       0.94      0.94      0.94     25195\n",
            "\n",
            "[[12943   526]\n",
            " [ 1086 10640]]\n",
            "\n",
            "\n",
            "-----------------------------------------------------------------------\n",
            "\n",
            "Training accuracy :  0.937099366925321\n",
            "Testing accuracy :  0.9354633855923794\n",
            "              precision    recall  f1-score   support\n",
            "\n",
            "           0       0.92      0.96      0.94     13469\n",
            "           1       0.95      0.91      0.93     11726\n",
            "\n",
            "    accuracy                           0.94     25195\n",
            "   macro avg       0.94      0.93      0.93     25195\n",
            "weighted avg       0.94      0.94      0.94     25195\n",
            "\n",
            "[[12925   544]\n",
            " [ 1082 10644]]\n",
            "\n",
            "\n",
            "-----------------------------------------------------------------------\n",
            "\n",
            "Training accuracy :  0.9371198364738685\n",
            "Testing accuracy :  0.9370088116218147\n",
            "              precision    recall  f1-score   support\n",
            "\n",
            "           0       0.92      0.96      0.94     13468\n",
            "           1       0.95      0.91      0.93     11726\n",
            "\n",
            "    accuracy                           0.94     25194\n",
            "   macro avg       0.94      0.94      0.94     25194\n",
            "weighted avg       0.94      0.94      0.94     25194\n",
            "\n",
            "[[12930   538]\n",
            " [ 1049 10677]]\n",
            "\n",
            "\n",
            "-----------------------------------------------------------------------\n",
            "\n",
            "Training accuracy :  0.9365542424513044\n",
            "Testing accuracy :  0.9391521790902596\n",
            "              precision    recall  f1-score   support\n",
            "\n",
            "           0       0.93      0.96      0.94     13468\n",
            "           1       0.96      0.91      0.93     11726\n",
            "\n",
            "    accuracy                           0.94     25194\n",
            "   macro avg       0.94      0.94      0.94     25194\n",
            "weighted avg       0.94      0.94      0.94     25194\n",
            "\n",
            "[[12984   484]\n",
            " [ 1049 10677]]\n",
            "\n",
            "\n",
            "-----------------------------------------------------------------------\n",
            "\n"
          ]
        }
      ],
      "source": [
        "max = 0\n",
        "lr_dummy = None\n",
        "for fold in range(config.NUM_FOLDS):\n",
        "  \n",
        "  x_train,x_valid,y_train,y_valid = retrieve_data(train_folds,fold)\n",
        "  x_train = scalar.fit_transform(x_train)\n",
        "  x_valid = scalar.fit_transform(x_valid)\n",
        "  lr = LogisticRegression(max_iter=1000)\n",
        "\n",
        "  lr.fit(x_train, y_train)\n",
        "\n",
        "\n",
        "  y_pred_train = lr.predict(x_train)  #np.where(yhat_train[:,1] >= best_thresh,1,0)\n",
        "  y_pred_test = lr.predict(x_valid) #np.where(yhat_test[:,1] >= best_thresh,1,0)\n",
        "  \n",
        "  if(accuracy_score(y_valid,y_pred_test) > max):\n",
        "    max = accuracy_score(y_valid,y_pred_test)\n",
        "    lr_dummy = lr\n",
        "\n",
        "\n",
        "  print(\"Training accuracy : \",accuracy_score(y_train,y_pred_train))\n",
        "  print(\"Testing accuracy : \",accuracy_score(y_valid,y_pred_test))\n",
        "  # #print(\"F1_Score : \",f1_score(y_valid, y_pred_test))\n",
        "  # print(\"Precision score : \",precision_score(y_valid, y_pred_test))\n",
        "  # print(\"Recall score : \",recall_score(y_valid, y_pred_test))\n",
        "  print(classification_report(y_valid, y_pred_test))\n",
        "  print(confusion_matrix(y_valid, y_pred_test))\n",
        "\n",
        "  print(\"\\n\\n-----------------------------------------------------------------------\",end=\"\\n\\n\")"
      ]
    },
    {
      "cell_type": "markdown",
      "metadata": {
        "id": "tIu3MHQBvI22"
      },
      "source": [
        "**Saving the model**"
      ]
    },
    {
      "cell_type": "code",
      "execution_count": 51,
      "metadata": {
        "id": "vFss7K7Uu9FV"
      },
      "outputs": [],
      "source": [
        "import pickle\n",
        "filename = 'lr_model.pkl'\n",
        "pickle.dump(lr_dummy, open(filename, 'wb'))"
      ]
    },
    {
      "cell_type": "code",
      "execution_count": 90,
      "metadata": {
        "id": "U61tuOojvNWm"
      },
      "outputs": [],
      "source": []
    },
    {
      "cell_type": "markdown",
      "metadata": {
        "id": "P_SKgx0jvOD2"
      },
      "source": [
        "**Decision Tree**"
      ]
    },
    {
      "cell_type": "code",
      "execution_count": 55,
      "metadata": {
        "colab": {
          "base_uri": "https://localhost:8080/"
        },
        "id": "TJdMGAhhvPaR",
        "outputId": "a93083b6-f420-4974-f86d-0d83fb6688d5"
      },
      "outputs": [
        {
          "name": "stdout",
          "output_type": "stream",
          "text": [
            "(100778, 15)\n",
            "(25195, 15)\n",
            "Training accuracy :  0.9904939570144278\n",
            "Testing accuracy :  0.9879738043262553\n",
            "              precision    recall  f1-score   support\n",
            "\n",
            "           0       0.98      0.99      0.99     13469\n",
            "           1       0.99      0.98      0.99     11726\n",
            "\n",
            "    accuracy                           0.99     25195\n",
            "   macro avg       0.99      0.99      0.99     25195\n",
            "weighted avg       0.99      0.99      0.99     25195\n",
            "\n",
            "[[13379    90]\n",
            " [  213 11513]]\n",
            "\n",
            "\n",
            "-----------------------------------------------------------------------\n",
            "\n",
            "(100778, 15)\n",
            "(25195, 15)\n",
            "Training accuracy :  0.9929945027684614\n",
            "Testing accuracy :  0.991387179996031\n",
            "              precision    recall  f1-score   support\n",
            "\n",
            "           0       0.99      1.00      0.99     13469\n",
            "           1       0.99      0.99      0.99     11726\n",
            "\n",
            "    accuracy                           0.99     25195\n",
            "   macro avg       0.99      0.99      0.99     25195\n",
            "weighted avg       0.99      0.99      0.99     25195\n",
            "\n",
            "[[13402    67]\n",
            " [  150 11576]]\n",
            "\n",
            "\n",
            "-----------------------------------------------------------------------\n",
            "\n",
            "(100778, 15)\n",
            "(25195, 15)\n",
            "Training accuracy :  0.9925777451427891\n",
            "Testing accuracy :  0.9913077991665012\n",
            "              precision    recall  f1-score   support\n",
            "\n",
            "           0       0.99      0.99      0.99     13469\n",
            "           1       0.99      0.99      0.99     11726\n",
            "\n",
            "    accuracy                           0.99     25195\n",
            "   macro avg       0.99      0.99      0.99     25195\n",
            "weighted avg       0.99      0.99      0.99     25195\n",
            "\n",
            "[[13391    78]\n",
            " [  141 11585]]\n",
            "\n",
            "\n",
            "-----------------------------------------------------------------------\n",
            "\n",
            "(100779, 15)\n",
            "(25194, 15)\n",
            "Training accuracy :  0.9930044949840741\n",
            "Testing accuracy :  0.9914662221163769\n",
            "              precision    recall  f1-score   support\n",
            "\n",
            "           0       0.99      1.00      0.99     13468\n",
            "           1       1.00      0.99      0.99     11726\n",
            "\n",
            "    accuracy                           0.99     25194\n",
            "   macro avg       0.99      0.99      0.99     25194\n",
            "weighted avg       0.99      0.99      0.99     25194\n",
            "\n",
            "[[13415    53]\n",
            " [  162 11564]]\n",
            "\n",
            "\n",
            "-----------------------------------------------------------------------\n",
            "\n",
            "(100779, 15)\n",
            "(25194, 15)\n",
            "Training accuracy :  0.9921412198970023\n",
            "Testing accuracy :  0.9897594665396523\n",
            "              precision    recall  f1-score   support\n",
            "\n",
            "           0       0.99      0.99      0.99     13468\n",
            "           1       0.99      0.98      0.99     11726\n",
            "\n",
            "    accuracy                           0.99     25194\n",
            "   macro avg       0.99      0.99      0.99     25194\n",
            "weighted avg       0.99      0.99      0.99     25194\n",
            "\n",
            "[[13389    79]\n",
            " [  179 11547]]\n",
            "\n",
            "\n",
            "-----------------------------------------------------------------------\n",
            "\n"
          ]
        }
      ],
      "source": [
        "max = 0\n",
        "dt_dummy = None\n",
        "for fold in range(config.NUM_FOLDS):\n",
        "  \n",
        "  x_train,x_valid,y_train,y_valid = retrieve_data(train_folds,fold)\n",
        "  dt = DecisionTreeClassifier(max_depth=11)\n",
        "\n",
        "  dt.fit(x_train, y_train)\n",
        "  print(x_train.shape)\n",
        "  print(x_valid.shape)\n",
        "\n",
        "\n",
        "  y_pred_train = dt.predict(x_train)  #np.where(yhat_train[:,1] >= best_thresh,1,0)\n",
        "  y_pred_test = dt.predict(x_valid) #np.where(yhat_test[:,1] >= best_thresh,1,0)\n",
        "  \n",
        "  if(accuracy_score(y_valid,y_pred_test) > max):\n",
        "    max = accuracy_score(y_valid,y_pred_test)\n",
        "    dt_dummy = dt\n",
        "\n",
        "\n",
        "  print(\"Training accuracy : \",accuracy_score(y_train,y_pred_train))\n",
        "  print(\"Testing accuracy : \",accuracy_score(y_valid,y_pred_test))\n",
        "  print(classification_report(y_valid, y_pred_test))\n",
        "  print(confusion_matrix(y_valid, y_pred_test))\n",
        "\n",
        "  print(\"\\n\\n-----------------------------------------------------------------------\",end=\"\\n\\n\")"
      ]
    },
    {
      "cell_type": "code",
      "execution_count": 53,
      "metadata": {
        "id": "Y3psiZaMvVZ3"
      },
      "outputs": [],
      "source": [
        "filename = 'dt_model.pkl'\n",
        "pickle.dump(dt_dummy, open(filename, 'wb'))"
      ]
    },
    {
      "cell_type": "code",
      "execution_count": null,
      "metadata": {
        "id": "f_wPUuPJvWPE"
      },
      "outputs": [],
      "source": []
    },
    {
      "cell_type": "markdown",
      "metadata": {
        "id": "N8mHD5t0ymG2"
      },
      "source": [
        "**Random Forest**"
      ]
    },
    {
      "cell_type": "code",
      "execution_count": 54,
      "metadata": {
        "colab": {
          "base_uri": "https://localhost:8080/"
        },
        "id": "mIKHKKMYynnV",
        "outputId": "f518c9bd-82b9-4eac-e3e4-1eaf45c7cb2e"
      },
      "outputs": [
        {
          "name": "stdout",
          "output_type": "stream",
          "text": [
            "Training accuracy :  0.9907321042290976\n",
            "Testing accuracy :  0.9898789442349673\n",
            "              precision    recall  f1-score   support\n",
            "\n",
            "           0       0.98      1.00      0.99     13469\n",
            "           1       1.00      0.98      0.99     11726\n",
            "\n",
            "    accuracy                           0.99     25195\n",
            "   macro avg       0.99      0.99      0.99     25195\n",
            "weighted avg       0.99      0.99      0.99     25195\n",
            "\n",
            "[[13434    35]\n",
            " [  220 11506]]\n",
            "\n",
            "\n",
            "-----------------------------------------------------------------------\n",
            "\n",
            "Training accuracy :  0.9916648474865546\n",
            "Testing accuracy :  0.9902758483826156\n",
            "              precision    recall  f1-score   support\n",
            "\n",
            "           0       0.98      1.00      0.99     13469\n",
            "           1       1.00      0.98      0.99     11726\n",
            "\n",
            "    accuracy                           0.99     25195\n",
            "   macro avg       0.99      0.99      0.99     25195\n",
            "weighted avg       0.99      0.99      0.99     25195\n",
            "\n",
            "[[13439    30]\n",
            " [  215 11511]]\n",
            "\n",
            "\n",
            "-----------------------------------------------------------------------\n",
            "\n",
            "Training accuracy :  0.9909107146401\n",
            "Testing accuracy :  0.9903155387973804\n",
            "              precision    recall  f1-score   support\n",
            "\n",
            "           0       0.98      1.00      0.99     13469\n",
            "           1       1.00      0.98      0.99     11726\n",
            "\n",
            "    accuracy                           0.99     25195\n",
            "   macro avg       0.99      0.99      0.99     25195\n",
            "weighted avg       0.99      0.99      0.99     25195\n",
            "\n",
            "[[13449    20]\n",
            " [  224 11502]]\n",
            "\n",
            "\n",
            "-----------------------------------------------------------------------\n",
            "\n",
            "Training accuracy :  0.9914466307464849\n",
            "Testing accuracy :  0.9894419306184012\n",
            "              precision    recall  f1-score   support\n",
            "\n",
            "           0       0.98      1.00      0.99     13468\n",
            "           1       1.00      0.98      0.99     11726\n",
            "\n",
            "    accuracy                           0.99     25194\n",
            "   macro avg       0.99      0.99      0.99     25194\n",
            "weighted avg       0.99      0.99      0.99     25194\n",
            "\n",
            "[[13441    27]\n",
            " [  239 11487]]\n",
            "\n",
            "\n",
            "-----------------------------------------------------------------------\n",
            "\n",
            "Training accuracy :  0.9912878675120809\n",
            "Testing accuracy :  0.9896800825593395\n",
            "              precision    recall  f1-score   support\n",
            "\n",
            "           0       0.98      1.00      0.99     13468\n",
            "           1       1.00      0.98      0.99     11726\n",
            "\n",
            "    accuracy                           0.99     25194\n",
            "   macro avg       0.99      0.99      0.99     25194\n",
            "weighted avg       0.99      0.99      0.99     25194\n",
            "\n",
            "[[13432    36]\n",
            " [  224 11502]]\n",
            "\n",
            "\n",
            "-----------------------------------------------------------------------\n",
            "\n"
          ]
        }
      ],
      "source": [
        "max = 0\n",
        "rf_dummy = None\n",
        "for fold in range(config.NUM_FOLDS):\n",
        "  \n",
        "  x_train,x_valid,y_train,y_valid = retrieve_data(train_folds,fold)\n",
        "  rf = RandomForestClassifier(n_estimators=400,max_depth=11)\n",
        "\n",
        "  rf.fit(x_train, y_train)\n",
        "\n",
        "\n",
        "  y_pred_train = rf.predict(x_train)  #np.where(yhat_train[:,1] >= best_thresh,1,0)\n",
        "  y_pred_test = rf.predict(x_valid) #np.where(yhat_test[:,1] >= best_thresh,1,0)\n",
        "  \n",
        "  if(accuracy_score(y_valid,y_pred_test) > max):\n",
        "    max = accuracy_score(y_valid,y_pred_test)\n",
        "    rf_dummy = rf\n",
        "\n",
        "\n",
        "  print(\"Training accuracy : \",accuracy_score(y_train,y_pred_train))\n",
        "  print(\"Testing accuracy : \",accuracy_score(y_valid,y_pred_test))\n",
        "  print(classification_report(y_valid, y_pred_test))\n",
        "  print(confusion_matrix(y_valid, y_pred_test))\n",
        "\n",
        "  print(\"\\n\\n-----------------------------------------------------------------------\",end=\"\\n\\n\")"
      ]
    },
    {
      "cell_type": "code",
      "execution_count": 28,
      "metadata": {
        "id": "kkCzTOldypeI"
      },
      "outputs": [],
      "source": [
        "filename = 'rf_model.pkl'\n",
        "pickle.dump(rf_dummy, open(filename, 'wb'))"
      ]
    },
    {
      "cell_type": "code",
      "execution_count": null,
      "metadata": {
        "id": "0z5ekT-bz2DM"
      },
      "outputs": [],
      "source": []
    },
    {
      "cell_type": "markdown",
      "metadata": {
        "id": "_Q5xdddR79Dx"
      },
      "source": [
        "**printing unique values**"
      ]
    },
    {
      "cell_type": "code",
      "execution_count": 56,
      "metadata": {
        "colab": {
          "base_uri": "https://localhost:8080/"
        },
        "id": "j1sD97Xh78X2",
        "outputId": "0fc14e40-5de2-45e8-e0b0-3920cf1b7c30"
      },
      "outputs": [
        {
          "name": "stdout",
          "output_type": "stream",
          "text": [
            "dst_host_srv_rerror_rate\n",
            "\n",
            "[0.   0.01 1.   0.16 0.57 0.61 0.68 0.96 0.88 0.84 0.91 0.12 0.79 0.02\n",
            " 0.04 0.29 0.03 0.99 0.97 0.07 0.75 0.2  0.44 0.08 0.06 0.81 0.32 0.55\n",
            " 0.33 0.5  0.05 0.15 0.45 0.66 0.93 0.89 0.62 0.67 0.27 0.41 0.98 0.71\n",
            " 0.38 0.74 0.19 0.39 0.11 0.92 0.7  0.72 0.73 0.9  0.17 0.53 0.87 0.69\n",
            " 0.77 0.78 0.52 0.35 0.34 0.13 0.28 0.95 0.47 0.31 0.86 0.65 0.82 0.94\n",
            " 0.64 0.26 0.14 0.6  0.22 0.4  0.1  0.25 0.09 0.18 0.54 0.21 0.59 0.85\n",
            " 0.8  0.37 0.49 0.56 0.76 0.51 0.24 0.48 0.83 0.36 0.58 0.3  0.42 0.63\n",
            " 0.43 0.46 0.23]\n",
            "\n",
            "srv_rerror_rate\n",
            "\n",
            "[0.   1.   0.03 0.1  0.2  0.25 0.08 0.11 0.33 0.43 0.5  0.07 0.14 0.62\n",
            " 0.09 0.81 0.06 0.17 0.05 0.75 0.8  0.29 0.12 0.04 0.02 0.71 0.79 0.83\n",
            " 0.56 0.67 0.84 0.4  0.64 0.74 0.38 0.85 0.15 0.69 0.6  0.73 0.76 0.57\n",
            " 0.86 0.92 0.82 0.18 0.22 0.78 0.77 0.88 0.96 0.7  0.9  0.72 0.01 0.89\n",
            " 0.55 0.87 0.95 0.13 0.58 0.3 ]\n",
            "\n",
            "service\n",
            "\n",
            "[20 44 49 24 51 36 38 14 35 60 18 12 58 67  2 54  7 66 37 65  4 11 19  5\n",
            " 32 15 21 68 59 26 16 69 28 29 13 30 33 57 34 31 55 63 23 17 43 10 42  6\n",
            "  8 56  9 53 40 47 41  0 46 48 62 45 50 39 52  1 64 27  3 25 61 22]\n",
            "\n",
            "protocol_type\n",
            "\n",
            "[1 2 0]\n",
            "\n",
            "dst_host_count\n",
            "\n",
            "[150 255  30   8   2  91   1  66 157 238  87  43   9  41 181   4 131  26\n",
            " 122 175 109 236  21  84  44  48 168  24 123  72 117 156 243   7 153 242\n",
            "  10  23   6   3 107 195 138 176   5  94 108  50  11  31  27  83 185 196\n",
            "  99  69  18 118 247  89 201 163 172  32 205 202 214  28  16 128  37  34\n",
            " 193  39  29 101  38 235  75  73 212  64 230 137  13 127 106  45 251  77\n",
            " 211  53 160  54 142  42  14  57 159  58 246  62  12  59 124 250  49 187\n",
            "  67 126  36 120  25  76  51 135 121  52 219 170 173 229  95  68  79  55\n",
            " 155  19 143 158 104 151 119 115 237 129 114 100 178 110 234  17 179  74\n",
            " 254  63 133  85 190 221 164  60 152 191  22 145  47  98  65 208  20  93\n",
            " 198 223  71  78 111 233 141 113  35 148 209  81 194 165 130  40 116 146\n",
            " 253  15 197 244 169  88 149 245 218 186 216 103 188 228 112 215  80 140\n",
            " 210 166 200  90  46 132 134 147 227  97 203  61 239 177 224 192 252 167\n",
            " 225 180 162  56 174 144 125 220  92 139 213 248  82 226 240 232 222  33\n",
            " 183 182  70  86 207 154 161 184 171 217 136 105 204 199 189 102 249   0\n",
            "  96 241 231 206]\n",
            "\n",
            "count\n",
            "\n",
            "[  2  13 123   5  30 121 166 117 270 133 205 199   3 233  96   8   1   9\n",
            " 223 280 248 279  14  33  57 181 122  22 228  50 262   4  11 108  80  44\n",
            " 258  10  61  26 120  73 135  24 148 206 175  63  52 125 168 145 138 276\n",
            " 220 212 250 132 109 146 300 129  32  82  15  21 110   6   7 246 272 259\n",
            " 294  79 190 245 263  87 292 295 143 278 102 251 222 260 511 287 486 286\n",
            "  35  28 101  12  19 406  17 201 124 162 277 274 141 103 171 238 281 163\n",
            " 301  16  46  39 211 256 144 104  18  74 225  66 139 241 213  36 254 179\n",
            " 195  20 208 268 425  42 196 111 237 257  77 137 290 203 116 457  47  71\n",
            " 200 140  68 215 115 275  76 202 252 197 198 154 204  25 459 253 142 167\n",
            "  43 221 224 284 150 255 235 131 100  34 151 130 236  84 265 210  54  23\n",
            " 127 118 242 320 114 136 209 297 106 299 509 234  88 244 240 149  92 191\n",
            " 230  99 226  81 219 264 232 126 194 266  27 282 134  65 269 216 322  31\n",
            " 271 180  45 366 231 214  78  29 229 239 105 217 261 170 164  51 434 307\n",
            "  75 113 207 112 432  72 247  89  67 291 273  40 288  55 285 267  86 189\n",
            " 147  48 435  59 107 441 289 446  37  69  38 169 347 160  98 128 391 365\n",
            "  85 173 249 510 296 358 398 298 174 185  70 119  90 184 192  49 308 158\n",
            " 227 186 178 452  53 177 305 193 176 155 492  60 496  62 335 354 293 243\n",
            "  56  97 380 188 187 311 361 356 458  95 157 482 312 218 447 159  94 165\n",
            " 336  83 153 476 344 485  91 303 152 323 468 350  93  64  41  58 424 283\n",
            " 461 497 440 348 423 182 156 352 403 340 304 417 161 172 319 411 422 306\n",
            " 449 183 484 363 360 487 383 436 330 351 478 408 477 413 421 393 480 445\n",
            " 370 401 381 357 399 438 378 316 394 490 309 338 317 481 353 488 407 318\n",
            " 444 410 373 453 342 310 508 379 463 456 341 389 329 302 355 333 388 384\n",
            " 364 500 479 460 334 448 404 427 489 326 362 472 464 315 442 439 494 375\n",
            " 454 313 324 314 376 502 409 473 493 450 437 451 419 405 327 367 433 390\n",
            " 337 471 321 346 506 397 325 402 507 470 368 382 467 418 491 328 359 443\n",
            " 415 504 349 430 343 501 455 429 465 416 369 483 372 377 505 345   0 474\n",
            " 396 469 374 331 395 385 428 387 332 431 412 495 462 499 414 400 339 503\n",
            " 392 386 475 371 426 420 466 498]\n",
            "\n",
            "flag\n",
            "\n",
            "[ 9  5  1  4 10  2  6  3  8  7  0]\n",
            "\n",
            "srv_serror_rate\n",
            "\n",
            "[0.   1.   0.2  0.11 0.02 0.03 0.09 0.1  0.14 0.5  0.43 0.04 0.78 0.07\n",
            " 0.25 0.67 0.22 0.17 0.8  0.33 0.89 0.95 0.12 0.06 0.08 0.4  0.05 0.91\n",
            " 0.74 0.53 0.55 0.36 0.9  0.34 0.76 0.6  0.18 0.57 0.93 0.94 0.86 0.92\n",
            " 0.01 0.75 0.26 0.83 0.88 0.46 0.59 0.39 0.29 0.41 0.13 0.65 0.45 0.15\n",
            " 0.37 0.38 0.23 0.27 0.32 0.44 0.35 0.47 0.87 0.73 0.21 0.24 0.42 0.54\n",
            " 0.71 0.96 0.19 0.48 0.85 0.58 0.63 0.3  0.72 0.56 0.68 0.7  0.82 0.61\n",
            " 0.51 0.28]\n",
            "\n",
            "serror_rate\n",
            "\n",
            "[0.   1.   0.2  0.02 0.1  0.03 0.99 0.08 0.05 0.5  0.97 0.04 0.17 0.07\n",
            " 0.65 0.21 0.09 0.01 0.06 0.25 0.79 0.13 0.95 0.64 0.93 0.7  0.16 0.18\n",
            " 0.11 0.22 0.33 0.86 0.98 0.12 0.96 0.88 0.23 0.14 0.15 0.6  0.59 0.73\n",
            " 0.83 0.52 0.62 0.85 0.67 0.63 0.26 0.78 0.4  0.36 0.68 0.75 0.19 0.91\n",
            " 0.55 0.66 0.9  0.92 0.71 0.74 0.24 0.69 0.81 0.61 0.77 0.94 0.72 0.44\n",
            " 0.8  0.27 0.29 0.56 0.43 0.58 0.76 0.89 0.35 0.37 0.53 0.54 0.51 0.3\n",
            " 0.84 0.57 0.28 0.87 0.82]\n",
            "\n",
            "dst_host_serror_rate\n",
            "\n",
            "[0.   1.   0.03 0.99 0.53 0.07 0.97 0.01 0.09 0.11 0.8  0.02 0.08 0.98\n",
            " 0.93 0.51 0.22 0.25 0.33 0.16 0.12 0.05 0.5  0.92 0.14 0.2  0.67 0.06\n",
            " 0.04 0.1  0.77 0.57 0.48 0.55 0.63 0.17 0.96 0.13 0.34 0.78 0.89 0.68\n",
            " 0.86 0.66 0.79 0.82 0.29 0.18 0.87 0.15 0.94 0.81 0.61 0.39 0.19 0.62\n",
            " 0.4  0.6  0.24 0.73 0.37 0.84 0.46 0.58 0.71 0.47 0.26 0.21 0.28 0.9\n",
            " 0.56 0.69 0.41 0.72 0.95 0.42 0.64 0.59 0.43 0.75 0.88 0.23 0.7  0.74\n",
            " 0.65 0.76 0.44 0.27 0.91 0.31 0.36 0.3  0.49 0.85 0.52 0.45 0.35 0.32\n",
            " 0.83 0.54 0.38]\n",
            "\n",
            "dst_host_srv_serror_rate\n",
            "\n",
            "[0.   1.   0.01 0.02 0.88 0.09 0.48 0.08 0.97 0.06 0.05 0.25 0.14 0.1\n",
            " 0.33 0.96 0.75 0.92 0.67 0.36 0.5  0.2  0.93 0.61 0.13 0.8  0.98 0.04\n",
            " 0.07 0.3  0.95 0.03 0.66 0.11 0.94 0.7  0.85 0.15 0.41 0.56 0.78 0.69\n",
            " 0.6  0.76 0.89 0.26 0.32 0.79 0.12 0.16 0.91 0.22 0.29 0.73 0.49 0.82\n",
            " 0.4  0.65 0.81 0.84 0.28 0.19 0.87 0.42 0.18 0.77 0.44 0.59 0.45 0.71\n",
            " 0.35 0.17 0.9  0.27 0.39 0.23 0.62 0.86 0.55 0.31 0.83 0.57 0.72 0.37\n",
            " 0.74 0.38 0.34 0.24 0.54 0.58 0.68 0.63 0.21 0.46 0.51 0.43 0.52 0.64\n",
            " 0.53 0.47]\n",
            "\n",
            "logged_in\n",
            "\n",
            "[0 1]\n",
            "\n",
            "dst_host_same_srv_rate\n",
            "\n",
            "[0.17 0.   0.1  1.   0.07 0.04 0.06 0.09 0.05 0.01 0.23 0.98 0.12 0.25\n",
            " 0.81 0.31 0.02 0.96 0.88 0.39 0.26 0.08 0.36 0.99 0.55 0.03 0.48 0.14\n",
            " 0.71 0.6  0.94 0.57 0.28 0.83 0.5  0.32 0.13 0.16 0.56 0.19 0.63 0.68\n",
            " 0.62 0.91 0.2  0.18 0.74 0.41 0.45 0.4  0.58 0.92 0.75 0.33 0.24 0.65\n",
            " 0.44 0.95 0.89 0.78 0.27 0.15 0.76 0.8  0.67 0.11 0.43 0.97 0.73 0.35\n",
            " 0.77 0.72 0.69 0.64 0.38 0.46 0.86 0.21 0.47 0.93 0.34 0.84 0.53 0.42\n",
            " 0.51 0.3  0.59 0.22 0.29 0.49 0.79 0.52 0.87 0.85 0.82 0.54 0.61 0.7\n",
            " 0.9  0.37 0.66]\n",
            "\n",
            "dst_host_srv_count\n",
            "\n",
            "[ 25   1  26 255  19   9  15  23  13  12 219  20   2  16  17  53  59 250\n",
            "   5  63 147  11  80  38   4 245 212  46  48  10 133  67   6  21  58  31\n",
            "  93  83  47   8   7  95 254   3 119 247 182 249 252 152 239 167  49  82\n",
            " 129  64  14  92  18 253  68 195 117  69  34  42 100 142  28  50  52 166\n",
            " 104 240  22 185  24  44 157  71 232 123 187  60 156 111 113  88  43  30\n",
            " 112  61 101  81 154  36 234 164 251  62 171  55 200 242  41  75 226 115\n",
            " 153  39 132 217  79 169  37  70  35 224 143  72 192  65 205 135  40  96\n",
            " 161 141 151  98 225  33  78 214  29 105 178 110  73  90 216  84  66  27\n",
            " 246 177 196 175  76 118 189 158 183  51 114  54 191 116 237  87 243 126\n",
            " 238  97 130  57 109 155 229 139 148 168 199 134 190 170 163  85 106 193\n",
            " 180 165  45 207 248 174 120 194 162 144  77 172  91 235 236 125 223 203\n",
            "  32 131 138 197 231 136 137 146 149 210 127 176 181 244 159 227 173 124\n",
            " 215 218 208 145 206 241 121 198 128 102 221 201 179 122 150  89  99 108\n",
            "  56 107  86 188 202 222 230 184 211 213 228  74 103  94 186 220   0 233\n",
            " 140 209 160 204]\n",
            "\n",
            "same_srv_rate\n",
            "\n",
            "[1.   0.08 0.05 0.16 0.14 0.09 0.06 0.02 0.   0.17 0.1  0.01 0.03 0.28\n",
            " 0.5  0.22 0.07 0.37 0.12 0.11 0.67 0.04 0.99 0.15 0.25 0.33 0.31 0.19\n",
            " 0.27 0.97 0.43 0.18 0.24 0.4  0.13 0.46 0.23 0.42 0.44 0.21 0.2  0.35\n",
            " 0.52 0.56 0.6  0.79 0.96 0.32 0.39 0.88 0.3  0.26 0.9  0.48 0.63 0.57\n",
            " 0.75 0.36 0.98 0.51 0.87 0.93 0.62 0.45 0.73 0.34 0.92 0.8  0.83 0.89\n",
            " 0.61 0.55 0.38 0.85 0.29 0.95 0.53 0.41 0.7  0.86 0.69 0.49 0.72 0.47\n",
            " 0.74 0.64 0.77 0.65 0.58 0.54 0.59 0.71 0.78 0.91 0.94 0.82 0.81 0.66\n",
            " 0.68 0.76 0.84]\n",
            "\n",
            "attack\n",
            "\n",
            "[0 1]\n",
            "\n"
          ]
        }
      ],
      "source": [
        "for i in columns:\n",
        "  print(i,sep=\"\\t\",end=\"\\n\\n\")\n",
        "  print(df[i].unique(),end=\"\\n\\n\")"
      ]
    },
    {
      "cell_type": "code",
      "execution_count": null,
      "metadata": {
        "id": "7K0_IC2Q8I7t"
      },
      "outputs": [],
      "source": []
    }
  ],
  "metadata": {
    "colab": {
      "provenance": []
    },
    "kernelspec": {
      "display_name": "Python 3",
      "language": "python",
      "name": "python3"
    },
    "language_info": {
      "codemirror_mode": {
        "name": "ipython",
        "version": 3
      },
      "file_extension": ".py",
      "mimetype": "text/x-python",
      "name": "python",
      "nbconvert_exporter": "python",
      "pygments_lexer": "ipython3",
      "version": "3.10.6 (tags/v3.10.6:9c7b4bd, Aug  1 2022, 21:53:49) [MSC v.1932 64 bit (AMD64)]"
    },
    "vscode": {
      "interpreter": {
        "hash": "04da3dd4e550443ddacb7cf92c53af2e62adbda91f65a23144a28bb58fe81823"
      }
    }
  },
  "nbformat": 4,
  "nbformat_minor": 0
}
